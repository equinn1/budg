{
 "cells": [
  {
   "cell_type": "markdown",
   "metadata": {},
   "source": [
    "## Extract salary and step info from MUNIS Individual Earnings Record by Account report\n",
    "\n",
    "E. Quinn 8/7/2019\n",
    "\n",
    "This notebook uses pdfminer to extract the content from a MUNIS report showing individual earnings\n",
    "\n",
    "The documentation for pdfminer is at:\n",
    "\n",
    "https://buildmedia.readthedocs.org/media/pdf/pdfminer-docs/latest/pdfminer-docs.pdf"
   ]
  },
  {
   "cell_type": "markdown",
   "metadata": {},
   "source": [
    "## Import standard python datascience packages"
   ]
  },
  {
   "cell_type": "code",
   "execution_count": null,
   "metadata": {},
   "outputs": [],
   "source": [
    "import math\n",
    "import re\n",
    "import numpy as np\n",
    "import scipy as sc\n",
    "import pandas as pd\n",
    "import matplotlib.pyplot as plt\n",
    "import seaborn as sns\n",
    "%matplotlib inline"
   ]
  },
  {
   "cell_type": "markdown",
   "metadata": {},
   "source": [
    "## Import pdfminer packages"
   ]
  },
  {
   "cell_type": "code",
   "execution_count": null,
   "metadata": {},
   "outputs": [],
   "source": [
    "from pdfminer.pdfparser import PDFParser\n",
    "from pdfminer.pdfdocument import PDFDocument\n",
    "from pdfminer.pdfpage import PDFPage\n",
    "from pdfminer.pdfpage import PDFTextExtractionNotAllowed\n",
    "from pdfminer.pdfinterp import PDFResourceManager\n",
    "from pdfminer.pdfinterp import PDFPageInterpreter\n",
    "from pdfminer.pdfdevice import PDFDevice\n",
    "from pdfminer.layout import LAParams\n",
    "from pdfminer.converter import PDFPageAggregator\n",
    "from pdfminer.pdfpage import PDFPage\n",
    "from pdfminer.layout import LTTextBoxHorizontal"
   ]
  },
  {
   "cell_type": "markdown",
   "metadata": {},
   "source": [
    "### Show the directory we are running in"
   ]
  },
  {
   "cell_type": "code",
   "execution_count": null,
   "metadata": {},
   "outputs": [],
   "source": [
    "!pwd"
   ]
  },
  {
   "attachments": {},
   "cell_type": "markdown",
   "metadata": {},
   "source": [
    "## Perform layout analysis - see section 2.3 of the pdfminer documentation\n"
   ]
  },
  {
   "cell_type": "markdown",
   "metadata": {},
   "source": [
    "### Read the pdf and create a document object"
   ]
  },
  {
   "cell_type": "code",
   "execution_count": null,
   "metadata": {},
   "outputs": [],
   "source": [
    "document = open('../FY17 Gene_Redacted.pdf', 'rb')"
   ]
  },
  {
   "cell_type": "markdown",
   "metadata": {},
   "source": [
    "### Create a resource manager object"
   ]
  },
  {
   "cell_type": "code",
   "execution_count": null,
   "metadata": {},
   "outputs": [],
   "source": [
    "rsrcmgr = PDFResourceManager()"
   ]
  },
  {
   "cell_type": "markdown",
   "metadata": {},
   "source": [
    "### Set the parameters for analysis"
   ]
  },
  {
   "cell_type": "code",
   "execution_count": null,
   "metadata": {},
   "outputs": [],
   "source": [
    "laparams = LAParams()"
   ]
  },
  {
   "cell_type": "markdown",
   "metadata": {},
   "source": [
    "### Create a PDF page aggregator object"
   ]
  },
  {
   "cell_type": "code",
   "execution_count": null,
   "metadata": {},
   "outputs": [],
   "source": [
    "device = PDFPageAggregator(rsrcmgr, laparams=laparams)\n",
    "interpreter = PDFPageInterpreter(rsrcmgr, device)"
   ]
  },
  {
   "cell_type": "markdown",
   "metadata": {},
   "source": [
    "### Store the information in a dictionary\n",
    "\n",
    "Strategy for this document:  \n",
    "\n",
    "Save information from each element in the LTTextBox objects in a dictionary including:\n",
    "\n",
    "- x0 horizontal coordinate of the upper left corner of the text box\n",
    "- x1 horizontal coordinate of the lower right corner of the text box\n",
    "- page number \n",
    "- sequence number of text box within this page\n",
    "- text contained in the text box, converted to ascii\n",
    "\n",
    "Parsing the text is complicated by the fact that that a text box may span multiple columns and/or rows, and the text box groupings vary quite a bit depending on the page contents and layout.\n",
    "\n",
    "However, with a bit of luck the structure of the document will allow the contents to be deciphered with the following heuristics:\n",
    "\n",
    "- Text boxes containing left justified columns will tend to have nearly the same x0 coordinates\n",
    "- Text boxes containing right justified columns will tend to have nearly the same x1 coordinates\n",
    "- The codes for fund, account code, and object code are numeric and have fixed lengths\n",
    "- Extraneous information is often preceded or followed by a series of underscore and newline characters\n",
    "- Last name can be distinguished because is the only field that is all characters followed by a comma\n",
    "- Last name may be preceded by between one and three numerical fields:  fund, account, object.  If it is, the x0 value is shifted to the left.\n",
    "    - Three numerical fields precede the name:  assume they are fund, account, object\n",
    "    - Two numerical fields precede the name: assume they are account, object\n",
    "    - One numerical field precedes the name: assume it is object"
   ]
  },
  {
   "cell_type": "code",
   "execution_count": null,
   "metadata": {},
   "outputs": [],
   "source": [
    "pdf={}                                     #dictionary to hold the results\n",
    "\n",
    "pageno = 0                                 #initialize page coounter to zero\n",
    "\n",
    "for page in PDFPage.get_pages(document):   #loop through the pdf page by page\n",
    "    pageno = pageno + 1                    #increment the page number\n",
    "    pdf[pageno] = {}                       #dictionary for this page\n",
    "    interpreter.process_page(page)         # receive the LTPage object for the page.\n",
    "    layout = device.get_result()           # create layout object\n",
    "    tbox_no=0                              # index for element number\n",
    "    for element in layout:\n",
    "        if (type(element).__name__=='LTTextBoxHorizontal'):             #loop through text boxes\n",
    "            tbox_no += 1                                                #increment text box number\n",
    "            pdf[pageno][tbox_no] = {}                                   #dictionary for text boxes within page\n",
    "            x0 = round(element.x0,2)                                    #x0 coordinate of textbox corner\n",
    "            x1 = round(element.x1,2)                                    #x1 coordinate of textbox corner\n",
    "            txt = element.get_text().encode('ascii', 'ignore')          #text converted to ascii\n",
    "            pdf[pageno][tbox_no]['x0'] = x0                             #create x0 coordinate entry\n",
    "            pdf[pageno][tbox_no]['x1'] = x1                             #create x1 coordinate entry\n",
    "            pdf[pageno][tbox_no]['text'] = txt                          #create text entry"
   ]
  },
  {
   "cell_type": "markdown",
   "metadata": {},
   "source": [
    "### Show the results for the first two pages"
   ]
  },
  {
   "cell_type": "code",
   "execution_count": null,
   "metadata": {},
   "outputs": [],
   "source": [
    "pdf[1]     #page 1"
   ]
  },
  {
   "cell_type": "code",
   "execution_count": null,
   "metadata": {},
   "outputs": [],
   "source": [
    "pdf[2]   #page 2"
   ]
  },
  {
   "cell_type": "markdown",
   "metadata": {},
   "source": [
    "### Salary steps FY2017"
   ]
  },
  {
   "cell_type": "code",
   "execution_count": null,
   "metadata": {},
   "outputs": [],
   "source": [
    "step_cat=['B','B+30','M','M+30','M2/CAGS','D']\n",
    "\n",
    "steps_2016_2017      = np.array([\n",
    "    [41286,44871,48494,52118,55743,59366,62991,66616,71741,78898],  #B           \n",
    "    [42900,46484,50106,53729,57354,60979,64605,68228,73353,80675],  #B+30        \n",
    "    [43871,47454,51078,54700,58328,61951,65574,69199,74323,81743],  #M           \n",
    "    [44505,48085,51709,55332,58958,62583,66206,69829,74954,82438],  #M+30        \n",
    "    [44893,48474,52098,55722,59347,62974,66596,69806,75345,82866],  #CAGS/2M     \n",
    "    [45186,48771,52393,56018,59642,63266,66892,70515,75639,83190]   #D          \n",
    "    ],dtype=float) "
   ]
  },
  {
   "cell_type": "markdown",
   "metadata": {},
   "source": [
    "### Subroutine builds a data dictionary with fund, acct-code, object, and name"
   ]
  },
  {
   "cell_type": "code",
   "execution_count": null,
   "metadata": {},
   "outputs": [],
   "source": [
    "def updcd(dd,page,fund,acct,obj,lst):\n",
    "    if (page not in dd.keys()):\n",
    "        dd[page] = {}\n",
    "    k = len(dd[page])\n",
    "    for i in range(0,len(lst)):\n",
    "        k += 1\n",
    "        dd[page][k] = {}\n",
    "        dd[page][k]['fund']     = fund\n",
    "        dd[page][k]['acctcode'] = acct\n",
    "        dd[page][k]['objcode']  = obj\n",
    "        dd[page][k]['name']     = lst[i]\n",
    "        dd[page][k]['position'] = ''\n",
    "        dd[page][k]['rate']     =  np.NaN\n",
    "        dd[page][k]['earnings'] =  np.NaN"
   ]
  },
  {
   "cell_type": "markdown",
   "metadata": {},
   "source": [
    "### Subroutine updates string columns (position) in the data dictionary"
   ]
  },
  {
   "cell_type": "code",
   "execution_count": null,
   "metadata": {},
   "outputs": [],
   "source": [
    "def updstrcol(dd,page,col,lst):\n",
    "    \n",
    "    indx = 0\n",
    "    \n",
    "    for row in dd[page].keys():             #loop through rows\n",
    "        if (not dd[page][row][col]):\n",
    "            if (indx < len(lst)):\n",
    "                dd[page][row][col] = lst[indx]\n",
    "                indx += 1"
   ]
  },
  {
   "cell_type": "markdown",
   "metadata": {},
   "source": [
    "### Subroutine update numeric colums (rate, earnings) in the data dictionary"
   ]
  },
  {
   "cell_type": "code",
   "execution_count": null,
   "metadata": {},
   "outputs": [],
   "source": [
    "def updnumcol(dd,page,col,lst):\n",
    "    \n",
    "    indx = 0\n",
    "    try: \n",
    "        for row in dd[page].keys():             #loop through rows\n",
    "            if (math.isnan(dd[page][row][col])):\n",
    "                if (indx < len(lst)):\n",
    "                    dd[page][row][col] = float(lst[indx].replace(',', ''))\n",
    "                    indx += 1\n",
    "    except KeyError:\n",
    "        print('KeyError page ' + str(page))\n",
    "        print(col)\n",
    "        print(lst)"
   ]
  },
  {
   "cell_type": "markdown",
   "metadata": {},
   "source": [
    "### Parse the information extracted from the text boxes"
   ]
  },
  {
   "cell_type": "code",
   "execution_count": null,
   "metadata": {},
   "outputs": [],
   "source": [
    "cd = {}                               #parsed contents dictionary\n",
    "\n",
    "page_no = 0\n",
    "\n",
    "for page in range(1,len(pdf)):                                      #loop through pages\n",
    "    page_no += 1\n",
    "    print('page ' + str(page_no))\n",
    "    \n",
    "    for tbox in sorted(pdf[page].keys()):                           #loop through textboxes\n",
    "        text = pdf[page][tbox]['text']                              # text string\n",
    "        x0 = pdf[page][tbox]['x0']                                  # x coordinate of upper left hand corner\n",
    "        x1 = pdf[page][tbox]['x1']                                  # x coordinate of loweer right hand corner\n",
    "        words = text.split('\\n')                                    #split text at newlines\n",
    "        \n",
    "        if (x0<163.0):       #line that might have a name\n",
    "            if (('FUND ACCT-CODE' in text) & (len(words) > 3)):     #line with fund, acct-code, objcode plus names\n",
    "                if (len(words[2]) > 0):                             #ignore lines with null character strings\n",
    "                    w1 = words[2].split(' ')                        #split the first entry by spaces\n",
    "                    if (len(w1) > 4):                               #length > 4 mean fund, acct-code and obj present\n",
    "                        fund = w1[0]                                #fund is the first word\n",
    "                        acctcode = w1[1]                            #acct-code is the second\n",
    "                        objcode = w1[2]                             #obj is the third\n",
    "                        \n",
    "                        w1l = len(w1[0]) + len(w1[1]) + len(w1[2]) + 2   #get the length of the numeric code string\n",
    "                    words = words[2:]                                #remove the heading fields\n",
    "                    words[0] = words[0][1+w1l:]                      #remove the codes preceding the first name\n",
    "                        \n",
    "            elif ((x0 > 161.0) & (x0 < 162.0) & (x1 > 200.0)):      #line with just names\n",
    "                print(' ')\n",
    "         \n",
    "            elif ((x0 > 123.0) & (x0 < 124.0)):                     #line with names and objcode\n",
    "                w1 = words[0].split(' ')                            #split the first entry into obj and name\n",
    "                objcode = w1[0]                                     #separate the obj code from the name\n",
    "\n",
    "                w1l = len(w1[0])                                    #remove the object code from the name string\n",
    "                words[0] = words[0][1+w1l:]                          \n",
    "                \n",
    "            elif ((x0 > 68.0) & (x0 < 69.0)):                       #line with names, acct-code, and objcode\n",
    "                w1 = words[0].split(' ')                            #the acct-code comes first\n",
    "                acctcode = w1[0]\n",
    "                \n",
    "                objcode = w1[1]                                     #followed by obj\n",
    "                \n",
    "                w1l = len(w1[0]) + 1 + len(w1[1])                   #remove the numerical values before the name\n",
    "                words[0] = words[0][1+w1l:]\n",
    "                \n",
    "            if not words[len(words)-1]:                             #check if last entry is a null string\n",
    "                words.remove(words[len(words)-1])                   # if so, discard it\n",
    "\n",
    "            if ((',' in words[0]) & (not words[0][0].isdigit())):   #filter out earnings columns \n",
    "                updcd(cd,page_no,fund,acctcode,objcode,words)       #update the data dictionary for this page\n",
    "                \n",
    "        if ((x0>439.0) & (x0 < 440.0)):                             #line that might have a position\n",
    "            if (words[0] == 'POSITION'):                            #discard heading\n",
    "                words = words[2:]\n",
    "            if not words[len(words)-1]:                             #check if last entry is a null string\n",
    "                words.remove(words[len(words)-1])                   # if so remove it\n",
    "            \n",
    "            if (len(words) > 0):                                    #update the data dictionary with position\n",
    "                updstrcol(cd,page_no,'position',words)                \n",
    "                \n",
    "        if ((x1>564.0) & (x1 < 566.0)):                             #line that might have a rate\n",
    "            if (words[0] == 'RATE'):                                #remove heading\n",
    "                words = words[2:]\n",
    "            if not words[len(words)-1]:                             #check if last entry is a null string\n",
    "                words.remove(words[len(words)-1])                   # if so, discard it\n",
    "            \n",
    "            if (len(words) > 0):                                    #add rates to data dictionary\n",
    "                updnumcol(cd,page_no,'rate',words)\n",
    "                \n",
    "        if ((x1>651.0) & (x0 < 653.0)):                             #line that might have earnings\n",
    "            if (words[0] == 'ACCT-EARNINGS'):                       #remove heading\n",
    "                words = words[2:]\n",
    "                \n",
    "            if not words[len(words)-1]:                             #check if last entry is a null string\n",
    "                words.remove(words[len(words)-1])                   # if so, discard it\n",
    "                \n",
    "            underscores = 0\n",
    "            ix = 0\n",
    "            underscore_found=False\n",
    "            \n",
    "            for word in words:\n",
    "                ix += 1\n",
    "                if (('____' in word) & (not underscore_found)):\n",
    "                    underscores = ix\n",
    "                    underscore_found=True\n",
    "                    words = words[0:underscores-1]\n",
    "            \n",
    "            if (len(words) > 0):                                    #add rates to data dictionary\n",
    "                updnumcol(cd,page_no,'earnings',words)"
   ]
  },
  {
   "cell_type": "code",
   "execution_count": null,
   "metadata": {},
   "outputs": [],
   "source": [
    "def find_step(salary,steps):\n",
    "    s = [-1,-1]\n",
    "    for i in range(0,steps.shape[0]):\n",
    "        for j in range(0,steps.shape[1]):\n",
    "            if (abs(salary - steps[i,j]) < 2):\n",
    "                stepcat = i\n",
    "                step = j\n",
    "                s = [i,j]\n",
    "    return(s)"
   ]
  },
  {
   "cell_type": "markdown",
   "metadata": {},
   "source": [
    "### Code salary and step values"
   ]
  },
  {
   "cell_type": "code",
   "execution_count": null,
   "metadata": {},
   "outputs": [],
   "source": [
    "for page in cd.keys():\n",
    "    for indx in cd[page].keys():\n",
    "        salary= round(184.0*cd[page][indx]['rate'])\n",
    "        cd[page][indx]['salary'] = salary\n",
    "        ss = find_step(salary,steps_2016_2017)\n",
    "        if (ss[0] >= 0):\n",
    "            cd[page][indx]['stepcat'] = step_cat[ss[0]]\n",
    "        else:\n",
    "            cd[page][indx]['stepcat'] = ''\n",
    "        if (ss[1] >= 0):\n",
    "            cd[page][indx]['step'] = str(1+ss[1])\n",
    "        else:\n",
    "            cd[page][indx]['step'] = ''"
   ]
  },
  {
   "cell_type": "markdown",
   "metadata": {},
   "source": [
    "### Write earnings to a csv file"
   ]
  },
  {
   "cell_type": "code",
   "execution_count": null,
   "metadata": {},
   "outputs": [],
   "source": [
    "with open(\"../fy2017_earnings.csv\", 'w') as out_file:\n",
    "    st = 'fund,acct,obj,name,position,rate,earnings,salary,stepcat,step\\n'\n",
    "    out_file.write(st)\n",
    "    \n",
    "    for page in cd.keys():\n",
    "        for indx in cd[page].keys():\n",
    "            st = cd[page][indx]['fund'] + ','\n",
    "            st = st + cd[page][indx]['acctcode'] + ','\n",
    "            st = st + cd[page][indx]['objcode'] + ','\n",
    "            st = st + '\"' + cd[page][indx]['name'] + '\",'\n",
    "            st = st + cd[page][indx]['position'] + ','\n",
    "            st = st + str(cd[page][indx]['rate']) + ','\n",
    "            st = st + str(cd[page][indx]['earnings']) + ','\n",
    "            st = st + str(cd[page][indx]['salary']) + ','\n",
    "            st = st + str(cd[page][indx]['stepcat']) + ','\n",
    "            st = st + str(cd[page][indx]['step']) + '\\n'\n",
    "            out_file.write(st)"
   ]
  }
 ],
 "metadata": {
  "kernelspec": {
   "display_name": "Python 2",
   "language": "python",
   "name": "python2"
  },
  "language_info": {
   "codemirror_mode": {
    "name": "ipython",
    "version": 2
   },
   "file_extension": ".py",
   "mimetype": "text/x-python",
   "name": "python",
   "nbconvert_exporter": "python",
   "pygments_lexer": "ipython2",
   "version": "2.7.16"
  }
 },
 "nbformat": 4,
 "nbformat_minor": 2
}
