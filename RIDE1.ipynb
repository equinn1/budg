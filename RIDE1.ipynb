{
 "cells": [
  {
   "cell_type": "markdown",
   "metadata": {},
   "source": [
    "# RIDE1\n",
    "\n",
    "RIDE teacher salary data FY2010-FY2017\n",
    "\n",
    "EQuinn 7/28/2019"
   ]
  },
  {
   "cell_type": "code",
   "execution_count": null,
   "metadata": {},
   "outputs": [],
   "source": [
    "import re\n",
    "import numpy as np\n",
    "import scipy as sc\n",
    "import pandas as pd\n",
    "import matplotlib.pyplot as plt\n",
    "import seaborn as sns\n",
    "%matplotlib inline"
   ]
  },
  {
   "cell_type": "code",
   "execution_count": null,
   "metadata": {},
   "outputs": [],
   "source": [
    "import datascience as ds"
   ]
  },
  {
   "cell_type": "code",
   "execution_count": null,
   "metadata": {},
   "outputs": [],
   "source": [
    "pd.set_option(\"display.max_rows\",1000)\n",
    "pd.set_option(\"display.max_columns\",100)"
   ]
  },
  {
   "cell_type": "code",
   "execution_count": null,
   "metadata": {},
   "outputs": [],
   "source": [
    "aeg = pd.read_csv(\"alleg.csv\")\n",
    "aeg['Variance'] = aeg['Actual'] - aeg['Budget']\n",
    "aegdd = aeg.to_dict()\n",
    "print(aeg.shape)\n",
    "aeg.tail()"
   ]
  },
  {
   "cell_type": "code",
   "execution_count": null,
   "metadata": {},
   "outputs": [],
   "source": [
    "egt = ds.Table.read_table(\"alleg.csv\")\n",
    "dir(egt)"
   ]
  },
  {
   "cell_type": "code",
   "execution_count": null,
   "metadata": {},
   "outputs": [],
   "source": [
    "egt.column_labels.index('Loc')"
   ]
  },
  {
   "cell_type": "code",
   "execution_count": null,
   "metadata": {},
   "outputs": [],
   "source": [
    "for key in aegdd['Job Class Description'].keys():\n",
    "    if ('Substitute' in aegdd['Job Class Description'][key]):\n",
    "        print(str(aegdd['JC'][key]) + ' ' + aegdd['Job Class Description'][key])"
   ]
  },
  {
   "cell_type": "code",
   "execution_count": null,
   "metadata": {},
   "outputs": [],
   "source": [
    "aeg.loc[(aeg['JC']>=1294) & (aeg['JC']<=1295)]"
   ]
  },
  {
   "cell_type": "code",
   "execution_count": null,
   "metadata": {},
   "outputs": [],
   "source": [
    "mask = aeg['JC'].isin([2100,2400,2500,4100,4300,4600,])\n",
    "aega = aeg[(aeg['Obj']==51110) & (aeg['Sub']!=2500) & (~mask)]\n",
    "aega.drop(['Unnamed: 0','ID','Dist No','District Name','Loc Type desc','Fund Description','Location Description',\n",
    "           'Function Description','Program Description','Job Class Description','Subject Description',\n",
    "          'School Enrollment','Obj','Object Description'], axis=1,inplace=True)\n",
    "print(aega.shape)\n",
    "print(aega.columns)\n",
    "aega.head()"
   ]
  },
  {
   "cell_type": "code",
   "execution_count": null,
   "metadata": {},
   "outputs": [],
   "source": [
    "d = {'Actual': ['sum'], 'Budget': ['sum'], 'Variance':['sum']}\n",
    "#res = df.groupby('ID').agg(d)\n",
    "aega.groupby(aega['year']).agg(d)"
   ]
  },
  {
   "cell_type": "code",
   "execution_count": null,
   "metadata": {},
   "outputs": [],
   "source": [
    "def select_year (yr,df):\n",
    "    dfyr = df.loc[df['year']==yr]\n",
    "    aname = 'Actual' + str(yr)\n",
    "    bname = 'Budget' + str(yr)\n",
    "    dfyr[aname] = df['Actual']\n",
    "    dfyr[bname] = df['Budget']\n",
    "    dfyr.drop(['Actual', 'Budget','year','Variance'], axis=1, inplace=True)\n",
    "    return(dfyr)"
   ]
  },
  {
   "cell_type": "code",
   "execution_count": null,
   "metadata": {},
   "outputs": [],
   "source": [
    "egall = select_year(2017,aega)\n",
    "td    = select_year(2016,aega)\n",
    "egall=egall.merge(td,how='outer',on=['Fund','Loc Type','Loc','Func','Prog','Sub','JC'])\n",
    "td    = select_year(2015,aega)\n",
    "egall=egall.merge(td,how='outer',on=['Fund','Loc Type','Loc','Func','Prog','Sub','JC'])\n",
    "td    = select_year(2014,aega)\n",
    "egall=egall.merge(td,how='outer',on=['Fund','Loc Type','Loc','Func','Prog','Sub','JC'])\n",
    "td    = select_year(2013,aega)\n",
    "egall=egall.merge(td,how='outer',on=['Fund','Loc Type','Loc','Func','Prog','Sub','JC'])\n",
    "td    = select_year(2012,aega)\n",
    "egall=egall.merge(td,how='outer',on=['Fund','Loc Type','Loc','Func','Prog','Sub','JC'])\n",
    "td    = select_year(2011,aega)\n",
    "egall=egall.merge(td,how='outer',on=['Fund','Loc Type','Loc','Func','Prog','Sub','JC'])\n",
    "td    = select_year(2010,aega)\n",
    "egall=egall.merge(td,how='outer',on=['Fund','Loc Type','Loc','Func','Prog','Sub','JC'])\n",
    "print(egall.shape)\n",
    "egall.head()"
   ]
  },
  {
   "cell_type": "code",
   "execution_count": null,
   "metadata": {},
   "outputs": [],
   "source": [
    "def build_labels(ind,outd,col,dcol):\n",
    "    outd[col] = {}\n",
    "    for key in ind[col].keys():\n",
    "        if ind[col][key] not in outd[col].keys():\n",
    "            outd[col][ind[col][key]] = ind[dcol][key]\n",
    "    return"
   ]
  },
  {
   "cell_type": "code",
   "execution_count": null,
   "metadata": {},
   "outputs": [],
   "source": [
    "lbls = {}\n",
    "\n",
    "aegd = aeg.to_dict()\n",
    "\n",
    "build_labels(aegd,lbls,'Fund','Fund Description')\n",
    "build_labels(aegd,lbls,'Loc','Location Description')\n",
    "build_labels(aegd,lbls,'Func','Function Description')\n",
    "build_labels(aegd,lbls,'Prog','Program Description')\n",
    "build_labels(aegd,lbls,'Sub','Subject Description')\n",
    "build_labels(aegd,lbls,'JC','Job Class Description')"
   ]
  },
  {
   "cell_type": "code",
   "execution_count": null,
   "metadata": {},
   "outputs": [],
   "source": [
    "def add_labels(indd,lbldd,col,collbl):\n",
    "    indd[collbl] = {}\n",
    "    for key in indd[col].keys():\n",
    "        indd[collbl][key] = lbldd[col][indd[col][key]]\n",
    "    return"
   ]
  },
  {
   "cell_type": "code",
   "execution_count": null,
   "metadata": {},
   "outputs": [],
   "source": [
    "ega_d = egall.to_dict()\n",
    "\n",
    "add_labels(ega_d,lbls,'Fund','Fund Description')\n",
    "add_labels(ega_d,lbls,'Loc','Location Description')\n",
    "add_labels(ega_d,lbls,'Func','Function Description')\n",
    "add_labels(ega_d,lbls,'Prog','Program Description')\n",
    "add_labels(ega_d,lbls,'Sub','Subject Description')\n",
    "add_labels(ega_d,lbls,'JC','Job Class Description')"
   ]
  },
  {
   "cell_type": "code",
   "execution_count": null,
   "metadata": {},
   "outputs": [],
   "source": [
    "egdf = pd.DataFrame(ega_d) \n",
    "print(egdf.columns)\n",
    "egdf.sort_values(by=['Func','JC','Sub','Prog','Loc'], inplace=True)\n",
    "print(egdf.shape)\n",
    "egdf.head()\n",
    "egdf.to_csv(\"../../egdf.csv\")"
   ]
  },
  {
   "cell_type": "code",
   "execution_count": null,
   "metadata": {},
   "outputs": [],
   "source": [
    "lbls['JC']"
   ]
  },
  {
   "cell_type": "code",
   "execution_count": null,
   "metadata": {},
   "outputs": [],
   "source": [
    "egall.loc[egall['JC']==1500]"
   ]
  },
  {
   "cell_type": "code",
   "execution_count": null,
   "metadata": {},
   "outputs": [],
   "source": [
    "ega_d.keys()"
   ]
  },
  {
   "cell_type": "code",
   "execution_count": null,
   "metadata": {},
   "outputs": [],
   "source": [
    "def get_x(dd,x,i,field):\n",
    "    x[0]=dd[field+'2010'][i]\n",
    "    x[1]=dd[field+'2011'][i]\n",
    "    x[2]=dd[field+'2012'][i]\n",
    "    x[3]=dd[field+'2013'][i]\n",
    "    x[4]=dd[field+'2014'][i]\n",
    "    x[5]=dd[field+'2015'][i]\n",
    "    x[6]=dd[field+'2016'][i]\n",
    "    x[7]=dd[field+'2017'][i]\n",
    "    return(x)"
   ]
  },
  {
   "cell_type": "code",
   "execution_count": null,
   "metadata": {},
   "outputs": [],
   "source": [
    "import math\n",
    "import numpy as np\n",
    "import matplotlib.pyplot as plt\n",
    "\n",
    "actual = [0.0,0.0,0.0,0.0,0.0,0.0,0.0,0.0]\n",
    "budget = [0.0,0.0,0.0,0.0,0.0,0.0,0.0,0.0]\n",
    "\n",
    "for key in ega_d['Fund'].keys():\n",
    "    for i in range(0,8):\n",
    "        if not math.isnan(ega_d['Actual'+str(2010+i)][key]):\n",
    "            actual[i] += ega_d['Actual'+str(2010+i)][key]/1000000.0\n",
    "        if not math.isnan(ega_d['Budget'+str(2010+i)][key]):\n",
    "            budget[i] += ega_d['Budget'+str(2010+i)][key]/1000000.0\n",
    "        \n",
    "print(budget)\n",
    "print(actual)\n",
    "    \n",
    "# data to plot\n",
    "n_groups = 8\n",
    "\n",
    "# create plot\n",
    "fig, ax = plt.subplots()\n",
    "fig.set_size_inches(9.5, 5.5, forward=True)\n",
    "index = np.arange(n_groups)\n",
    "bar_width = 0.45\n",
    "opacity = 0.8\n",
    "\n",
    "rects1 = plt.bar(index, actual, bar_width,alpha=opacity,color='b',label='Actual')\n",
    "\n",
    "rects2 = plt.bar(index + bar_width, budget, bar_width,alpha=opacity,color='g',label='Budget')\n",
    "\n",
    "plt.xlabel('Fiscal Year')\n",
    "plt.ylabel('Dollars')\n",
    "plt.title('Teachers Regular Salaries\\n Budget and Actual (millions)')\n",
    "plt.xticks(index + bar_width, ('2010', '2011', '2012', '2013', '2014', '2015','2016','2017'))\n",
    "plt.legend(bbox_to_anchor=(0,0))\n",
    "\n",
    "plt.tight_layout()\n",
    "plt.show()"
   ]
  },
  {
   "cell_type": "code",
   "execution_count": null,
   "metadata": {},
   "outputs": [],
   "source": [
    "import numpy as np\n",
    "import matplotlib.pyplot as plt\n",
    "\n",
    "ixdd = {}\n",
    "for key in ega_d['Fund'].keys():\n",
    "    maxact = max(ega_d['Actual2017'][key],ega_d['Actual2016'][key],ega_d['Actual2015'][key],\n",
    "                ega_d['Actual2014'][key],ega_d['Actual2013'][key],ega_d['Actual2012'][key],\n",
    "                ega_d['Actual2011'][key],ega_d['Actual2010'][key])\n",
    "    ixdd[maxact] = key\n",
    "    \n",
    "for key in sorted(ixdd.keys(),reverse=True):\n",
    "    if (key > 0.0):\n",
    "        i = ixdd[key]\n",
    "        # data to plot\n",
    "        n_groups = 8\n",
    "        x1=[0.0,0.0,0.0,0.0,0.0,0.0,0.0,0.0]\n",
    "        x1 = get_x(ega_d,x1,i,'Actual')\n",
    "        x2=[0.0,0.0,0.0,0.0,0.0,0.0,0.0,0.0]\n",
    "        x2 = get_x(ega_d,x2,i,'Budget')\n",
    "\n",
    "        # create plot\n",
    "        fig, ax = plt.subplots()\n",
    "        fig.set_size_inches(9.5, 5.5, forward=True)\n",
    "        index = np.arange(n_groups)\n",
    "        bar_width = 0.45\n",
    "        opacity = 0.8\n",
    "\n",
    "        rects1 = plt.bar(index, x1, bar_width,\n",
    "        alpha=opacity,\n",
    "        color='b',\n",
    "        label='Actual')\n",
    "\n",
    "        rects2 = plt.bar(index + bar_width, x2, bar_width,\n",
    "        alpha=opacity,\n",
    "        color='g',\n",
    "        label='Budget')\n",
    "\n",
    "        plt.xlabel('Fiscal Year')\n",
    "        plt.ylabel('Dollars')\n",
    "        plt.title('Teachers Regular Salaries\\n' + ega_d['Location Description'][i] + '\\n ' + ega_d['Subject Description'][i])\n",
    "        plt.xticks(index + bar_width, ('2010', '2011', '2012', '2013', '2014', '2015','2016','2017'))\n",
    "        plt.legend(bbox_to_anchor=(0,0))\n",
    "        #plt.legend()\n",
    "\n",
    "        plt.tight_layout()\n",
    "        plt.show()"
   ]
  }
 ],
 "metadata": {
  "kernelspec": {
   "display_name": "Python 3",
   "language": "python",
   "name": "python3"
  },
  "language_info": {
   "codemirror_mode": {
    "name": "ipython",
    "version": 3
   },
   "file_extension": ".py",
   "mimetype": "text/x-python",
   "name": "python",
   "nbconvert_exporter": "python",
   "pygments_lexer": "ipython3",
   "version": "3.7.3"
  }
 },
 "nbformat": 4,
 "nbformat_minor": 2
}
