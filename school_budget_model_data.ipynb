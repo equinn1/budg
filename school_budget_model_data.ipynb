{
 "cells": [
  {
   "cell_type": "markdown",
   "metadata": {},
   "source": [
    "# School Budget Model Data\n",
    "\n",
    "6/8/2019"
   ]
  },
  {
   "cell_type": "code",
   "execution_count": null,
   "metadata": {},
   "outputs": [],
   "source": [
    "!pwd"
   ]
  },
  {
   "cell_type": "code",
   "execution_count": null,
   "metadata": {},
   "outputs": [],
   "source": [
    "import re\n",
    "import numpy as np\n",
    "import scipy as sc\n",
    "import pandas as pd\n",
    "import matplotlib.pyplot as plt\n",
    "import seaborn as sns\n",
    "%matplotlib inline"
   ]
  },
  {
   "cell_type": "markdown",
   "metadata": {},
   "source": [
    "### Set max_rows option for display"
   ]
  },
  {
   "cell_type": "code",
   "execution_count": null,
   "metadata": {},
   "outputs": [],
   "source": [
    "pd.get_option(\"display.max_rows\")"
   ]
  },
  {
   "cell_type": "code",
   "execution_count": null,
   "metadata": {},
   "outputs": [],
   "source": [
    "pd.set_option(\"display.max_rows\",1000)\n",
    "pd.get_option(\"display.max_rows\")"
   ]
  },
  {
   "cell_type": "markdown",
   "metadata": {},
   "source": [
    "## The following code to reads the RI Uniform Charter of Accounts data from the Rhode Island Department of Education Consolidated District Financial Database\n",
    "\n",
    "See:\n",
    "\n",
    "http://www.ride.ri.gov/FundingFinance/SchoolDistrictFinancialData/UniformChartofAccounts.aspx#18211078-statewide-consolidated-district-financial-databases"
   ]
  },
  {
   "cell_type": "markdown",
   "metadata": {},
   "source": [
    "### Read the FY2017  (2016-2017 school year) data: Expenditures Excluding Capital and Debt Service \n",
    "\n",
    "Source file is: \n",
    "\n",
    "http://media.ride.ri.gov/construction/93-All-Expenditure-Account-Strings-with-Descriptions-no-421-422-FY17.xlsx"
   ]
  },
  {
   "cell_type": "code",
   "execution_count": null,
   "metadata": {},
   "outputs": [],
   "source": [
    "fy17 = pd.read_csv(\"../../ride/93-All-Expenditure-Account-Strings-with-Descriptions-no-421-422-FY17.csv\")\n",
    "fy17['Year'] = 2017\n",
    "print(fy17.shape)\n",
    "fy17.columns"
   ]
  },
  {
   "cell_type": "markdown",
   "metadata": {},
   "source": [
    "### Read the FY2016  (2015-2016 school year) data: Expenditures Excluding Capital and Debt Service \n",
    "\n",
    "Source file is: \n",
    "\n",
    "http://media.ride.ri.gov/construction/93-All-Expenditure-Account-Strings-with-Descriptions-no-421-422-FY16.xlsx"
   ]
  },
  {
   "cell_type": "code",
   "execution_count": null,
   "metadata": {},
   "outputs": [],
   "source": [
    "fy16 = pd.read_csv(\"../../ride/93-All-Expenditure-Account-Strings-with-Descriptions-no-421-422-FY16.csv\")\n",
    "fy16['Year'] = 2016\n",
    "print(fy16.shape)\n",
    "fy16.columns"
   ]
  },
  {
   "cell_type": "markdown",
   "metadata": {},
   "source": [
    "### Read the FY2015  (2014-2015 school year) data: Expenditures Excluding Capital and Debt Service \n",
    "\n",
    "Source file is: \n",
    "\n",
    "http://media.ride.ri.gov/construction/93-All-Expenditure-Account-Strings-with-Descriptions-no-421-422-FY15.xlsx"
   ]
  },
  {
   "cell_type": "code",
   "execution_count": null,
   "metadata": {},
   "outputs": [],
   "source": [
    "fy15 = pd.read_csv(\"../../ride/93-All-Expenditure-Account-Strings-with-Descriptions-no-421-422-FY15.csv\")\n",
    "fy15['Year'] = 2015\n",
    "print(fy15.shape)\n",
    "fy15.columns"
   ]
  },
  {
   "cell_type": "markdown",
   "metadata": {},
   "source": [
    "### Read the FY2014  (2013-2014 school year) data: Expenditures Excluding Capital and Debt Service \n",
    "\n",
    "Source file is: \n",
    "\n",
    "http://media.ride.ri.gov/construction/93-All-Expenditure-Account-Strings-with-Descriptions-no-421-422-081415.xlsx"
   ]
  },
  {
   "cell_type": "code",
   "execution_count": null,
   "metadata": {},
   "outputs": [],
   "source": [
    "fy14 = pd.read_csv(\"../../ride/93-All-Expenditure-Account-Strings-with-Descriptions-no-421-422-081415.csv\")\n",
    "fy14['Year'] = 2014\n",
    "print(fy14.shape)\n",
    "fy14.columns"
   ]
  },
  {
   "cell_type": "markdown",
   "metadata": {},
   "source": [
    "### Read the FY2013  (2012-2013 school year) data: Expenditures Excluding Capital and Debt Service \n",
    "\n",
    "Source file is: \n",
    "\n",
    "http://media.ride.ri.gov/construction/93-All-Expenditure-Account-Strings-with-Descriptions-no-421-422-FY13.xlsx"
   ]
  },
  {
   "cell_type": "code",
   "execution_count": null,
   "metadata": {},
   "outputs": [],
   "source": [
    "fy13 = pd.read_csv(\"../../ride/93-All-Expenditure-Account-Strings-with-Descriptions-no-421-422-FY13.csv\")\n",
    "fy13['Year'] = 2013\n",
    "print(fy13.shape)\n",
    "fy13.columns"
   ]
  },
  {
   "cell_type": "markdown",
   "metadata": {},
   "source": [
    "### Read the FY2012  (2011-2012 school year) data: Expenditures Excluding Capital and Debt Service \n",
    "\n",
    "Source file is: \n",
    "\n",
    "http://media.ride.ri.gov/construction/93-All-Expenditure-Account-Strings-with-Descriptions-no-421-422.xlsx"
   ]
  },
  {
   "cell_type": "code",
   "execution_count": null,
   "metadata": {},
   "outputs": [],
   "source": [
    "fy12 = pd.read_csv(\"../../ride/93-All-Expenditure-Account-Strings-with-Descriptions-no-421-422.csv\")\n",
    "fy12['Year'] = 2012\n",
    "print(fy12.shape)\n",
    "fy12.columns"
   ]
  },
  {
   "cell_type": "markdown",
   "metadata": {},
   "source": [
    "### Read the FY2011  (2010-2011 school year) data: Expenditures Excluding Capital and Debt Service \n",
    "\n",
    "Source file is: \n",
    "\n",
    "http://media.ride.ri.gov/construction/93-All-Expenditure-Account-Strings-with-Descriptions-no-421-422-FY11.xlsx"
   ]
  },
  {
   "cell_type": "code",
   "execution_count": null,
   "metadata": {},
   "outputs": [],
   "source": [
    "fy11 = pd.read_csv(\"../../ride/93-All-Expenditure-Account-Strings-with-Descriptions-no-421-422-FY11.csv\")\n",
    "fy11['Year'] = 2011\n",
    "print(fy11.shape)\n",
    "fy11.columns"
   ]
  },
  {
   "cell_type": "markdown",
   "metadata": {},
   "source": [
    "### Read the FY2010  (2009-2010 school year) data: Expenditures Excluding Capital and Debt Service \n",
    "\n",
    "Note:  No Budget information in this year\n",
    "\n",
    "Source file is: \n",
    "\n",
    "http://www.ride.ri.gov/Portals/0/Uploads/Documents/UCOA/2009-2010-Consolidated-UCOA-Database/FY-10-UCOA-Database-Expenditures-Excluding-Capital-and-Debt-Service.xlsx"
   ]
  },
  {
   "cell_type": "code",
   "execution_count": null,
   "metadata": {},
   "outputs": [],
   "source": [
    "fy10 = pd.read_csv(\"../../ride/FY-10-UCOA-Database-Expenditures-Excluding-Capital-and-Debt-Service.csv\")\n",
    "fy10['Year'] = 2010\n",
    "print(fy10.shape)\n",
    "fy10.columns"
   ]
  },
  {
   "cell_type": "code",
   "execution_count": null,
   "metadata": {},
   "outputs": [],
   "source": [
    "allexp = pd.concat([fy17,fy16,fy15,fy14,fy13,fy12,fy11,fy10],sort=False)\n",
    "print(allexp.shape)"
   ]
  },
  {
   "cell_type": "code",
   "execution_count": null,
   "metadata": {},
   "outputs": [],
   "source": [
    "allexp.to_csv(\"../../allexp.csv\")"
   ]
  },
  {
   "cell_type": "code",
   "execution_count": null,
   "metadata": {},
   "outputs": [],
   "source": [
    "alleg = allexp.loc[allexp['Dist No']==90.0]\n",
    "alleg['delta'] = alleg['Budget'] > alleg['Actual']\n",
    "alleg.to_csv(\"../../alleg.csv\")"
   ]
  },
  {
   "cell_type": "code",
   "execution_count": null,
   "metadata": {},
   "outputs": [],
   "source": [
    "alleg = pd.read_csv(\"../../alleg.csv\")\n",
    "print(alleg.shape)\n",
    "alleg.columns"
   ]
  },
  {
   "cell_type": "code",
   "execution_count": null,
   "metadata": {},
   "outputs": [],
   "source": [
    "alleg.loc[(alleg['Obj']==51110.0)&(alleg['Func']==212.0)&(alleg['Loc']==4103.0)][['Year',  \\\n",
    "                        'Loc','Function Description','Subject Description','Budget','Actual','delta']]"
   ]
  }
 ],
 "metadata": {
  "kernelspec": {
   "display_name": "Python 3",
   "language": "python",
   "name": "python3"
  },
  "language_info": {
   "codemirror_mode": {
    "name": "ipython",
    "version": 3
   },
   "file_extension": ".py",
   "mimetype": "text/x-python",
   "name": "python",
   "nbconvert_exporter": "python",
   "pygments_lexer": "ipython3",
   "version": "3.7.3"
  }
 },
 "nbformat": 4,
 "nbformat_minor": 2
}
