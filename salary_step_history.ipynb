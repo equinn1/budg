{
 "cells": [
  {
   "cell_type": "markdown",
   "metadata": {},
   "source": [
    "#  Teacher salary step history\n",
    "\n",
    "6/15/2019 epq"
   ]
  },
  {
   "cell_type": "markdown",
   "metadata": {},
   "source": [
    "### Import packages"
   ]
  },
  {
   "cell_type": "code",
   "execution_count": null,
   "metadata": {},
   "outputs": [],
   "source": [
    "import re\n",
    "import numpy as np\n",
    "import scipy as sc\n",
    "import pandas as pd\n",
    "import matplotlib.pyplot as plt\n",
    "import seaborn as sns\n",
    "%matplotlib inline"
   ]
  },
  {
   "cell_type": "markdown",
   "metadata": {},
   "source": [
    "### Set options for display"
   ]
  },
  {
   "cell_type": "code",
   "execution_count": null,
   "metadata": {},
   "outputs": [],
   "source": [
    "pd.set_option(\"display.max_rows\",1000)\n",
    "pd.set_option(\"display.max_columns\",100)"
   ]
  },
  {
   "cell_type": "markdown",
   "metadata": {},
   "source": [
    "### 2015-2016  2.5% all steps"
   ]
  },
  {
   "cell_type": "code",
   "execution_count": null,
   "metadata": {},
   "outputs": [],
   "source": [
    "steps_2015_2016      = np.array([\n",
    "                        [41286,44871,48494,52118,55743,59366,62991,66616,71741,78898,np.NaN],  #B           \n",
    "                        [42900,46484,50106,53729,57354,60979,64605,68228,73353,80675,np.NaN],  #B+30        \n",
    "                        [43871,47454,51078,54700,58328,61951,65574,69199,74323,81743,np.NaN],  #M           \n",
    "                        [44505,48085,51709,55332,58958,62583,66206,69829,74954,82438,np.NaN],  #M+30        \n",
    "                        [44893,48474,52098,55722,59347,62974,66596,69806,75345,82866,np.NaN],  #CAGS/2M     \n",
    "                        [45186,48771,52393,56018,59642,63266,66892,70515,75639,83190,np.NaN]   #D          \n",
    "                        ],dtype=float) "
   ]
  },
  {
   "cell_type": "markdown",
   "metadata": {},
   "source": [
    "### 2014-2015  2% all steps"
   ]
  },
  {
   "cell_type": "code",
   "execution_count": null,
   "metadata": {},
   "outputs": [],
   "source": [
    "steps_2014_2015      = np.array([                                                             \n",
    "                        [40279,43776,47311,50847,54383,57918,61455,64991,69991,76974,np.NaN],    #B       \n",
    "                        [41854,45350,48884,52419,55955,59492,63030,66564,71564,78707,np.NaN],    #B+30    \n",
    "                        [42801,46296,49832,53365,56905,60440,63974,67511,72511,79749,np.NaN],    #M       \n",
    "                        [43420,46912,50448,53982,57520,61057,64591,68126,73126,80427,np.NaN],    #M+30    \n",
    "                        [43798,47291,50827,54363,57899,64138,64972,68103,73507,80845,np.NaN],    #CAGS/2M \n",
    "                        [44084,47582,51115,54652,58188,61723,65260,68795,73794,81161,np.NaN]     #D       \n",
    "                        ],dtype=float)"
   ]
  },
  {
   "cell_type": "markdown",
   "metadata": {},
   "source": [
    "### 2013-2014  1% steps 1-9,  2.25% step 10 "
   ]
  },
  {
   "cell_type": "code",
   "execution_count": null,
   "metadata": {},
   "outputs": [],
   "source": [
    "steps_2013_2014      = np.array([\n",
    "                        [39489,42918,46383,49850,53317,56782,60250,63717,68618,75465,np.NaN],   #B\n",
    "                        [41033,44461,47926,51391,54858,58325,61794,65259,70161,77164,np.NaN],   #B+30\n",
    "                        [41961,45388,48855,52319,55789,59255,62720,66187,71089,78185,np.NaN],   #M\n",
    "                        [42568,45992,49459,52924,56392,59860,63325,66790,71692,78850,np.NaN],   #M+30\n",
    "                        [42939,46364,49830,53297,56764,60233,63698,66768,72066,79260,np.NaN],   #CAGS/2M\n",
    "                        [43220,46649,50113,53581,57047,60513,63980,67446,72347,79570,np.NaN]    #D\n",
    "                        ],dtype=float)"
   ]
  },
  {
   "cell_type": "markdown",
   "metadata": {},
   "source": [
    "### Create three dimensional array containing all step history"
   ]
  },
  {
   "cell_type": "code",
   "execution_count": null,
   "metadata": {},
   "outputs": [],
   "source": [
    "steps = np.array([steps_2015_2016,steps_2014_2015,steps_2013_2014])\n",
    "steps"
   ]
  },
  {
   "cell_type": "code",
   "execution_count": null,
   "metadata": {},
   "outputs": [],
   "source": []
  }
 ],
 "metadata": {
  "kernelspec": {
   "display_name": "Python 3",
   "language": "python",
   "name": "python3"
  },
  "language_info": {
   "codemirror_mode": {
    "name": "ipython",
    "version": 3
   },
   "file_extension": ".py",
   "mimetype": "text/x-python",
   "name": "python",
   "nbconvert_exporter": "python",
   "pygments_lexer": "ipython3",
   "version": "3.7.3"
  }
 },
 "nbformat": 4,
 "nbformat_minor": 2
}
