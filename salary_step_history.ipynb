{
 "cells": [
  {
   "cell_type": "markdown",
   "metadata": {},
   "source": [
    "#  Teacher salary step history\n",
    "\n",
    "6/15/2019 epq"
   ]
  },
  {
   "cell_type": "markdown",
   "metadata": {},
   "source": [
    "### Import packages"
   ]
  },
  {
   "cell_type": "code",
   "execution_count": null,
   "metadata": {},
   "outputs": [],
   "source": [
    "import re\n",
    "import numpy as np\n",
    "import scipy as sc\n",
    "import pandas as pd\n",
    "import matplotlib.pyplot as plt\n",
    "import seaborn as sns\n",
    "%matplotlib inline"
   ]
  },
  {
   "cell_type": "markdown",
   "metadata": {},
   "source": [
    "### Set options for display"
   ]
  },
  {
   "cell_type": "code",
   "execution_count": null,
   "metadata": {},
   "outputs": [],
   "source": [
    "pd.set_option(\"display.max_rows\",1000)\n",
    "pd.set_option(\"display.max_columns\",100)"
   ]
  },
  {
   "cell_type": "markdown",
   "metadata": {},
   "source": [
    "### 2015-2016  2.5% all steps"
   ]
  },
  {
   "cell_type": "code",
   "execution_count": null,
   "metadata": {},
   "outputs": [],
   "source": [
    "steps_2015_2016      = np.array([\n",
    "    [41286,44871,48494,52118,55743,59366,62991,66616,71741,78898,np.NaN],  #B           \n",
    "    [42900,46484,50106,53729,57354,60979,64605,68228,73353,80675,np.NaN],  #B+30        \n",
    "    [43871,47454,51078,54700,58328,61951,65574,69199,74323,81743,np.NaN],  #M           \n",
    "    [44505,48085,51709,55332,58958,62583,66206,69829,74954,82438,np.NaN],  #M+30        \n",
    "    [44893,48474,52098,55722,59347,62974,66596,69806,75345,82866,np.NaN],  #CAGS/2M     \n",
    "    [45186,48771,52393,56018,59642,63266,66892,70515,75639,83190,np.NaN]   #D          \n",
    "    ],dtype=float) "
   ]
  },
  {
   "cell_type": "markdown",
   "metadata": {},
   "source": [
    "### 2014-2015  2% all steps"
   ]
  },
  {
   "cell_type": "code",
   "execution_count": null,
   "metadata": {},
   "outputs": [],
   "source": [
    "steps_2014_2015      = np.array([                                                             \n",
    "    [40279,43776,47311,50847,54383,57918,61455,64991,69991,76974,np.NaN],    #B       \n",
    "    [41854,45350,48884,52419,55955,59492,63030,66564,71564,78707,np.NaN],    #B+30    \n",
    "    [42801,46296,49832,53365,56905,60440,63974,67511,72511,79749,np.NaN],    #M       \n",
    "    [43420,46912,50448,53982,57520,61057,64591,68126,73126,80427,np.NaN],    #M+30    \n",
    "    [43798,47291,50827,54363,57899,64138,64972,68103,73507,80845,np.NaN],    #CAGS/2M \n",
    "    [44084,47582,51115,54652,58188,61723,65260,68795,73794,81161,np.NaN]     #D       \n",
    "    ],dtype=float)"
   ]
  },
  {
   "cell_type": "markdown",
   "metadata": {},
   "source": [
    "### 2013-2014  1% steps 1-9,  2.25% step 10 "
   ]
  },
  {
   "cell_type": "code",
   "execution_count": null,
   "metadata": {},
   "outputs": [],
   "source": [
    "steps_2013_2014      = np.array([\n",
    "    [39489,42918,46383,49850,53317,56782,60250,63717,68618,75465,np.NaN],   #B\n",
    "    [41033,44461,47926,51391,54858,58325,61794,65259,70161,77164,np.NaN],   #B+30\n",
    "    [41961,45388,48855,52319,55789,59255,62720,66187,71089,78185,np.NaN],   #M\n",
    "    [42568,45992,49459,52924,56392,59860,63325,66790,71692,78850,np.NaN],   #M+30\n",
    "    [42939,46364,49830,53297,56764,60233,63698,66768,72066,79260,np.NaN],   #CAGS/2M\n",
    "    [43220,46649,50113,53581,57047,60513,63980,67446,72347,79570,np.NaN]    #D\n",
    "    ],dtype=float)"
   ]
  },
  {
   "cell_type": "markdown",
   "metadata": {},
   "source": [
    "### 2012-2013  same as 2011-2012"
   ]
  },
  {
   "cell_type": "code",
   "execution_count": null,
   "metadata": {},
   "outputs": [],
   "source": [
    "steps_2012_2013      = np.array([\n",
    "    [39098,42493,45924,49356,52789,56220,59653,63086,67939,73804,np.NaN],   #B\n",
    "    [40627,44021,47451,50822,54315,57748,61182,64613,69466,75466,np.NaN],   #B+30\n",
    "    [41456,44939,48371,51801,55237,58668,62099,65532,70385,76465,np.NaN],   #M\n",
    "    [42147,45537,48969,52400,55834,59267,62698,66129,70982,77115,np.NaN],   #M+30\n",
    "    [42514,45905,49337,52769,56202,59637,63067,66107,71352,77516,np.NaN],   #CAGS/2M\n",
    "    [42792,46187,49617,53050,56482,59914,63347,66778,71631,77819,np.NaN]    #D\n",
    "    ],dtype=float)"
   ]
  },
  {
   "cell_type": "markdown",
   "metadata": {},
   "source": [
    "### 2011-2012   2.25%"
   ]
  },
  {
   "cell_type": "code",
   "execution_count": null,
   "metadata": {},
   "outputs": [],
   "source": [
    "steps_2011_2012      = np.array([\n",
    "    [39098,42493,45924,49356,52789,56220,59653,63086,67939,73804,np.NaN],   #B\n",
    "    [40627,44021,47451,50822,54315,57748,61182,64613,69466,75466,np.NaN],   #B+30\n",
    "    [41456,44939,48371,51801,55237,58668,62099,65532,70385,76465,np.NaN],   #M\n",
    "    [42147,45537,48969,52400,55834,59267,62698,66129,70982,77115,np.NaN],   #M+30\n",
    "    [42514,45905,49337,52769,56202,59637,63067,66107,71352,77516,np.NaN],   #CAGS/2M\n",
    "    [42792,46187,49617,53050,56482,59914,63347,66778,71631,77819,np.NaN]    #D\n",
    "    ],dtype=float)"
   ]
  },
  {
   "cell_type": "markdown",
   "metadata": {},
   "source": [
    "### 2010-2011  2%"
   ]
  },
  {
   "cell_type": "code",
   "execution_count": null,
   "metadata": {},
   "outputs": [],
   "source": [
    "steps_2010_2011      = np.array([\n",
    "    [38238,41558,44914,48269,51627,54983,58340,61698,66444,72180,np.NaN],   #B\n",
    "    [39733,43052,46407,49763,53120,56477,59835,63191,67937,73805,np.NaN],   #B+30\n",
    "    [40632,43950,47307,50661,54021,57377,60773,64090,68836,74782,np.NaN],   #M\n",
    "    [41219,44535,47891,51247,54606,57963,61318,64674,69420,75418,np.NaN],   #M+30\n",
    "    [41578,44895,48251,51608,54966,58325,61679,64653,69782,75810,np.NaN],   #CAGS/2M\n",
    "    [41851,45171,48525,51882,55239,58596,61953,65309,70055,76106,np.NaN]    #D\n",
    "    ],dtype=float)"
   ]
  },
  {
   "cell_type": "markdown",
   "metadata": {},
   "source": [
    "### 2009-2010  0%"
   ]
  },
  {
   "cell_type": "code",
   "execution_count": null,
   "metadata": {},
   "outputs": [],
   "source": [
    "steps_2009_2010      = np.array([\n",
    "    [37488,40743,44033,47323,50615,53905,57196,60488,65141,70765,np.NaN],   #B\n",
    "    [38954,42208,45497,48787,52078,55370,58662,61952,66605,72358,np.NaN],   #B+30\n",
    "    [39835,43088,46379,49668,52962,56252,59542,62833,67486,73316,np.NaN],   #M\n",
    "    [40411,43662,46952,50242,53535,56826,60116,63406,68059,73939,np.NaN],   #M+30\n",
    "    [40763,44015,47305,50596,53888,57181,60470,63385,68414,74324,np.NaN],   #CAGS/2M\n",
    "    [41030,44285,47574,50865,54156,57477,60738,64028,68681,74614,np.NaN]    #D\n",
    "    ],dtype=float)"
   ]
  },
  {
   "cell_type": "markdown",
   "metadata": {},
   "source": [
    "### 2008-2009   2.9%"
   ]
  },
  {
   "cell_type": "code",
   "execution_count": null,
   "metadata": {},
   "outputs": [],
   "source": [
    "steps_2008_2009      = np.array([\n",
    "    [37488,40743,44033,47323,50615,53905,57196,60488,65141,70765,np.NaN],   #B\n",
    "    [38954,42208,45497,48787,52078,55370,58662,61952,66605,72358,np.NaN],   #B+30\n",
    "    [39835,43088,46379,49668,52962,56252,59542,62833,67486,73316,np.NaN],   #M\n",
    "    [40411,43662,46952,50242,53535,56826,60116,63406,68059,73939,np.NaN],   #M+30\n",
    "    [40763,44015,47305,50596,53888,57181,60470,63385,68414,74324,np.NaN],   #CAGS/2M\n",
    "    [41030,44285,47574,50865,54156,57477,60738,64028,68681,74614,np.NaN]    #D\n",
    "    ],dtype=float)"
   ]
  },
  {
   "cell_type": "markdown",
   "metadata": {},
   "source": [
    "### 2007-2008  2.7%"
   ]
  },
  {
   "cell_type": "code",
   "execution_count": null,
   "metadata": {},
   "outputs": [],
   "source": [
    "steps_2007_2008      = np.array([\n",
    "    [36645,39827,43043,46259,49477,52693,55910,59127,63676,69174,np.NaN],   #B\n",
    "    [38078,41259,44474,47690,50907,54125,57343,60559,65108,70731,np.NaN],   #B+30\n",
    "    [38940,42119,45336,48551,51771,54987,58203,61420,65968,71667,np.NaN],   #M\n",
    "    [39503,42680,45897,49112,52331,55548,58764,61980,66529,72276,np.NaN],   #M+30\n",
    "    [39847,43025,46242,49458,52676,55896,59110,61960,66875,72653,np.NaN],   #CAGS/2M\n",
    "    [40107,43289,46505,49721,52938,56155,59372,62588,67137,72937,np.NaN]    #D\n",
    "    ],dtype=float)"
   ]
  },
  {
   "cell_type": "markdown",
   "metadata": {},
   "source": [
    "### 2006-2007  3.8%"
   ]
  },
  {
   "cell_type": "code",
   "execution_count": null,
   "metadata": {},
   "outputs": [],
   "source": [
    "steps_2006_2007      = np.array([\n",
    "    [35682,38780,41911,45043,48176,51308,54440,57573,62002,67355,np.NaN],   #B\n",
    "    [37077,40174,43305,46436,49569,52702,55835,58967,63396,68871,np.NaN],   #B+30\n",
    "    [37916,41012,44144,47275,50410,53541,56673,59805,64234,69783,np.NaN],   #M\n",
    "    [38464,41558,44690,47821,50955,54088,57219,60351,64780,70376,np.NaN],   #M+30\n",
    "    [38799,41894,45026,48158,51291,54426,57556,60331,65117,70743,np.NaN],   #CAGS/2M\n",
    "    [39053,42151,45282,48414,51546,54679,57811,60943,65372,71019,np.NaN]    #D\n",
    "    ],dtype=float)"
   ]
  },
  {
   "cell_type": "markdown",
   "metadata": {},
   "source": [
    "### 2005-2006   3.6%"
   ]
  },
  {
   "cell_type": "code",
   "execution_count": null,
   "metadata": {},
   "outputs": [],
   "source": [
    "steps_2005_2006      = np.array([\n",
    "    [34376,37360,40377,43394,46412,49429,52447,55466,59733,64889,np.NaN],   #B\n",
    "    [35719,38703,41719,44736,47754,50773,53790,56808,61075,66349,np.NaN],   #B+30\n",
    "    [36528,39510,42528,45544,48564,51581,54598,57616,61883,67229,np.NaN],   #M\n",
    "    [37056,40037,43054,46071,49089,52108,55124,58142,62409,67800,np.NaN],   #M+30\n",
    "    [37379,40361,43377,46395,49413,52433,55448,58123,62733,68153,np.NaN],   #CAGS/2M\n",
    "    [37624,40608,43624,46642,49659,52677,55695,58712,62979,68419,np.NaN]    #D\n",
    "    ],dtype=float)"
   ]
  },
  {
   "cell_type": "markdown",
   "metadata": {},
   "source": [
    "### 2004-2005   3.25%"
   ]
  },
  {
   "cell_type": "code",
   "execution_count": null,
   "metadata": {},
   "outputs": [],
   "source": [
    "steps_2004_2005      = np.array([\n",
    "    [33181,36062,38974,41886,44798,47713,50625,53537,57656,62635,np.NaN],   #B\n",
    "    [34478,37358,40271,43181,46095,49009,51921,54834,58953,64045,np.NaN],   #B+30\n",
    "    [35259,38137,41049,43962,46877,49789,52701,55613,59731,64893,np.NaN],   #M\n",
    "    [35768,38645,41558,44470,47383,50296,53210,56122,60240,65444,np.NaN],   #M+30\n",
    "    [36081,38958,41870,44783,47696,50611,53522,56104,60553,65785,np.NaN],   #CAGS/2M\n",
    "    [36315,39194,42108,45021,47934,50846,53759,56672,60791,66042,np.NaN]    #D\n",
    "    ],dtype=float)"
   ]
  },
  {
   "cell_type": "markdown",
   "metadata": {},
   "source": [
    "### 2003-2004   3.5% \n",
    "\n",
    "Apply percentage increase to previous year"
   ]
  },
  {
   "cell_type": "code",
   "execution_count": null,
   "metadata": {},
   "outputs": [],
   "source": [
    "steps_2003_2004      = np.array([\n",
    "    [32137,34927,37747,40568,43389,46210,49031,51853,55842,60663,np.NaN],   #B\n",
    "    [33393,36182,39002,41822,44644,47466,50287,53108,57097,62028,np.NaN],   #B+30\n",
    "    [34149,36937,39758,42578,45401,48221,51042,53863,57852,62850,np.NaN],   #M\n",
    "    [34642,37429,40250,43070,45892,48714,51534,54355,58344,63384,np.NaN],   #M+30\n",
    "    [34944,37732,40552,43373,46195,49018,51837,54337,58647,63714,np.NaN],   #CAGS/2M\n",
    "    [35173,37963,40783,43604,46425,49246,52067,54888,58877,63963,np.NaN]    #D\n",
    "    ],dtype=float)"
   ]
  },
  {
   "cell_type": "markdown",
   "metadata": {},
   "source": [
    "### 2002-2003  3.5%\n",
    "\n",
    "Percentage increase from previous year"
   ]
  },
  {
   "cell_type": "code",
   "execution_count": null,
   "metadata": {},
   "outputs": [],
   "source": [
    "steps_2002_2003      = np.array([\n",
    "    [31050,33746,36471,39196,41921,44648,47373,50099,53953,58612,np.NaN],   #B\n",
    "    [32264,34958,37684,40408,43134,45861,48586,51312,55166,59931,np.NaN],   #B+30\n",
    "    [32994,35688,38413,41138,43866,46591,49316,52041,55895,60725,np.NaN],   #M\n",
    "    [33471,36163,38889,41614,44340,47066,49792,52517,56371,61241,np.NaN],   #M+30\n",
    "    [33763,36456,39181,41906,44633,47360,50084,52500,56664,61559,np.NaN],   #CAGS/2M\n",
    "    [33983,36679,39404,42149,44855,47581,50306,53032,56886,61800,np.NaN]    #D\n",
    "    ],dtype=float)"
   ]
  },
  {
   "cell_type": "markdown",
   "metadata": {},
   "source": [
    "### 2001-2002\n",
    "\n",
    "Increments:  B to:  B+30 (1172)  M (1878)  M+30 (2339)  CAGS/2M  (2621)  D  (2834)"
   ]
  },
  {
   "cell_type": "code",
   "execution_count": null,
   "metadata": {},
   "outputs": [],
   "source": [
    "steps_2001_2002      = np.array([\n",
    "    [30000,32605,35238,37871,40504,43138,45771,48405,52129,56630,np.NaN],   #B\n",
    "    [31173,33776,36409,39041,41675,44310,46943,49576,53300,57904,np.NaN],   #B+30\n",
    "    [31878,34481,37114,39747,42382,45015,47648,50281,54005,58671,np.NaN],   #M\n",
    "    [32339,34941,37574,40207,42841,45475,48108,50741,54465,59170,np.NaN],   #M+30\n",
    "    [32621,35223,37856,40489,43123,45758,48390,50724,54747,59477,np.NaN],   #CAGS/2M\n",
    "    [32834,35438,38071,40704,43339,45972,48605,51239,54963,59710,np.NaN]    #D\n",
    "    ],dtype=float)"
   ]
  },
  {
   "cell_type": "markdown",
   "metadata": {},
   "source": [
    "### 2000-2001   3.5%\n",
    "\n",
    "\n",
    "steps 1-10\n",
    "Increments:  B to:  B+30 (1132)  M (1813)  M+30 (2257)  CAGS/2M  (2530)  D  (2738)\n",
    "        \n",
    "step 11\n",
    "Increments:  B to:  B+30 (1230)  M (1971)  M+30 (2453)  CAGS/2M  (2750)  D  (2975)"
   ]
  },
  {
   "cell_type": "code",
   "execution_count": null,
   "metadata": {},
   "outputs": [],
   "source": [
    "steps_2000_2001      = np.array([\n",
    "    [26113,28658,31201,33745,36289,38834,41379,43923,46467,50066,54416],   #B\n",
    "    [27245,29790,32334,34878,37421,39966,42512,45055,47599,51198,55646],   #B+30\n",
    "    [27926,30472,33015,35559,38103,40648,43193,45737,48281,51880,56387],   #M\n",
    "    [28370,30915,33459,36003,38547,41092,43637,46181,48725,52323,56869],   #M+30\n",
    "    [28643,31188,33732,36276,38820,41365,43910,46454,48998,52597,57166],   #CAGS/2M\n",
    "    [28851,31396,33940,36484,39028,41573,44118,46662,49206,52804,57391]    #D\n",
    "    ],dtype=float)"
   ]
  },
  {
   "cell_type": "markdown",
   "metadata": {},
   "source": [
    "### 1999-2000   3.5%\n",
    "\n",
    "###  M+30 is wrong\n",
    "\n",
    "\n",
    "steps 1-10\n",
    "Increments:  B to:  B+30 (1094)  M (1753)  M+30 (2182)  CAGS/2M  (2446)  D  (2646)\n",
    "        \n",
    "step 11\n",
    "Increments:  B to:  B+30 (1189)  M (1905)  M+30 (2371)  CAGS/2M  (2658)  D  (2875)\n"
   ]
  },
  {
   "cell_type": "code",
   "execution_count": null,
   "metadata": {},
   "outputs": [],
   "source": [
    "steps_1999_2000      = np.array([\n",
    "    [25229,27688,30146,32604,35062,37521,39980,42438,44896,48373,52575],   #B\n",
    "    [26323,28782,31240,33698,36156,38615,41074,43532,45990,49467,53764],   #B+30\n",
    "    [26982,29441,31899,34357,36815,39274,41733,44191,46649,50125,54480],   #M\n",
    "    [24711,29870,32328,34786,37243,39702,42161,44619,47077,50554,54946],   #M+30\n",
    "    [27675,30134,32592,35050,37507,39966,42425,44883,47341,50818,55233],   #CAGS/2M\n",
    "    [27875,30334,32792,35250,37708,40167,42626,45084,47542,51019,55450]    #D\n",
    "    ],dtype=float)"
   ]
  },
  {
   "cell_type": "markdown",
   "metadata": {},
   "source": [
    "### 1998-1999   1% increase steps 1-10  3.5% increase step 11\n",
    "\n",
    "Approximate Increments:  B to:  B+30 (1057)  M (1694)  M+30 (2108)  CAGS/2M  (2363)  D  (2557)"
   ]
  },
  {
   "cell_type": "code",
   "execution_count": null,
   "metadata": {},
   "outputs": [],
   "source": [
    "steps_1998_1999      = np.array([\n",
    "    [24376,26752,29127,31502,33877,36252,38628,41003,43378,46737,50797],   #B\n",
    "    [25433,27809,30184,32559,34933,37309,39685,42060,44435,47794,51946],   #B+30\n",
    "    [26070,28445,30820,33195,35570,37946,40321,42696,45071,48430,52638],   #M\n",
    "    [26484,28860,31234,33609,35984,38360,40736,43110,45485,48844,53088],   #M+30\n",
    "    [26739,29115,31489,33864,36239,38615,40991,43365,45740,49099,53365],   #CAGS/2M\n",
    "    [26933,29308,31683,34058,36433,38809,41184,43559,45934,49293,53575]    #D\n",
    "    ],dtype=float)"
   ]
  },
  {
   "cell_type": "markdown",
   "metadata": {},
   "source": [
    "### 1997-1998   1% increase steps 1-10  3.5% increase step 11\n",
    "\n",
    "Increments:  B to:  B+30 (1046)  M (1677)  M+30 (2087)  CAGS/2M  (2339)  D  (2531)"
   ]
  },
  {
   "cell_type": "code",
   "execution_count": null,
   "metadata": {},
   "outputs": [],
   "source": [
    "steps_1997_1998      = np.array([\n",
    "    [24135,26487,28839,31190,33541,35893,38246,40597,42948,46274,49080],   #B\n",
    "    [25181,27534,29885,32236,34587,36940,39292,41643,43995,47321,50189],   #B+30\n",
    "    [25812,28164,30515,32866,35218,37570,39922,42274,44625,47951,50858],   #M\n",
    "    [26222,28574,30925,33276,35628,37980,40332,42684,45035,48361,51293],   #M+30\n",
    "    [26474,28826,31178,33529,35880,38233,40585,42936,45287,48613,51561],   #CAGS/2M\n",
    "    [26666,29018,31370,33721,36072,38424,40777,43128,45479,48805,51763]    #D\n",
    "    ],dtype=float)"
   ]
  },
  {
   "cell_type": "markdown",
   "metadata": {},
   "source": [
    "### 1996-1997   0% steps 1-10,  added step 11  at 3.5% above step 10\n",
    "\n",
    "Increments:  B to:  B+30 (1036)  M (1660)  M+30 (2066)  CAGS/2M  (2316)  D  (2506)"
   ]
  },
  {
   "cell_type": "code",
   "execution_count": null,
   "metadata": {},
   "outputs": [],
   "source": [
    "steps_1996_1997      = np.array([\n",
    "    [23896,26225,28553,30881,33209,35538,37867,40195,42523,45816,47420],   #B\n",
    "    [24932,27261,29589,31917,34245,36574,38903,41231,43559,46852,48492],   #B+30\n",
    "    [25556,27885,30213,32541,34869,37198,39527,41855,44183,47476,49138],   #M\n",
    "    [25962,28291,30619,32947,35275,37604,39933,42261,44589,47882,49558],   #M+30\n",
    "    [26212,28541,30869,33197,35525,37854,40183,42511,44839,48132,49817],   #CAGS/2M\n",
    "    [26402,28731,31059,33387,35715,38044,40373,42701,45029,48322,50013]    #D\n",
    "    ],dtype=float)"
   ]
  },
  {
   "cell_type": "markdown",
   "metadata": {},
   "source": [
    "### 1995-1996  3.5% increase "
   ]
  },
  {
   "cell_type": "code",
   "execution_count": null,
   "metadata": {},
   "outputs": [],
   "source": [
    "steps_1995_1996      = np.array([\n",
    "    [23896,26225,28553,30881,33209,35538,37867,40195,42523,45816,np.NaN],   #B\n",
    "    [24932,27261,29589,31917,34245,36574,38903,41231,43559,46852,np.NaN],   #B+30\n",
    "    [25556,27885,30213,32541,34869,37198,39527,41855,44183,47476,np.NaN],   #M\n",
    "    [25962,28291,30619,32947,35275,37604,39933,42261,44589,47882,np.NaN],   #M+30\n",
    "    [26212,28541,30869,33197,35525,37854,40183,42511,44839,48132,np.NaN],   #CAGS/2M\n",
    "    [26402,28731,31059,33387,35715,38044,40373,42701,45029,48322,np.NaN]    #D\n",
    "    ],dtype=float)"
   ]
  },
  {
   "cell_type": "markdown",
   "metadata": {},
   "source": [
    "### 1994-1995   4% increase"
   ]
  },
  {
   "cell_type": "code",
   "execution_count": null,
   "metadata": {},
   "outputs": [],
   "source": [
    "steps_1994_1995      = np.array([\n",
    "    [23088,25338,27587,29837,32086,34336,36586,38836,41085,44267,np.NaN],   #B\n",
    "    [24089,26339,28588,30838,33087,35337,37587,39837,42086,45268,np.NaN],   #B+30\n",
    "    [24692,26942,29191,31441,33690,35940,38190,40440,42689,45871,np.NaN],   #M\n",
    "    [25084,27334,29583,31833,34082,36331,38582,40832,43081,46263,np.NaN],   #M+30\n",
    "    [25326,27576,29825,32075,34324,36574,38824,41074,43323,46505,np.NaN],   #CAGS/2M\n",
    "    [25509,27759,30008,32258,34507,36757,39007,41257,43506,46688,np.NaN]    #D\n",
    "    ],dtype=float)"
   ]
  },
  {
   "cell_type": "markdown",
   "metadata": {},
   "source": [
    "### 1993-1994   3.5% increase\n",
    "\n",
    "Step increments no longer match exactly"
   ]
  },
  {
   "cell_type": "code",
   "execution_count": null,
   "metadata": {},
   "outputs": [],
   "source": [
    "steps_1993_1994      = np.array([\n",
    "    [22200,24363,26526,28689,30852,33015,35179,37342,39505,42564,np.NaN],   #B\n",
    "    [23163,25326,27489,29652,31815,33978,36142,38305,40468,43527,np.NaN],   #B+30\n",
    "    [23743,25906,28069,30232,32395,34558,36722,38885,41048,44107,np.NaN],   #M\n",
    "    [24120,26283,28446,30609,32772,34935,37099,39262,41425,44484,np.NaN],   #M+30\n",
    "    [24353,26516,28679,30842,33005,35168,37332,39495,41658,44717,np.NaN],   #CAGS/2M\n",
    "    [24529,26692,28855,31018,33181,35344,37508,39671,41834,44893,np.NaN]    #D\n",
    "    ],dtype=float)"
   ]
  },
  {
   "cell_type": "code",
   "execution_count": null,
   "metadata": {},
   "outputs": [],
   "source": [
    "print(steps_1993_1994[0:5,1]- steps_1993_1994[0:5,0])\n",
    "print(steps_1993_1994[0:5,8]- steps_1993_1994[0:5,7])\n",
    "print(steps_1993_1994[0:5,9]- steps_1993_1994[0:5,8]) # $896"
   ]
  },
  {
   "cell_type": "code",
   "execution_count": null,
   "metadata": {},
   "outputs": [],
   "source": [
    "steps_1993_1994[0,1:10]-steps_1993_1994[0,0:9]"
   ]
  },
  {
   "cell_type": "markdown",
   "metadata": {},
   "source": [
    "### 1992-1993    0% increase  Step increments are 2090 for steps 2-9,  2956 for step 10\n",
    "\n",
    "Increments:   \n",
    "  B to:     B+30 (930)     M (1490)    M+30 (1855)    CAGS/2M  (2080)  D (2250)"
   ]
  },
  {
   "cell_type": "code",
   "execution_count": null,
   "metadata": {},
   "outputs": [],
   "source": [
    "steps_1992_1993      = np.array([\n",
    "    [21449,23539,25629,27719,29809,31899,33989,36079,38169,41125,np.NaN],   #B\n",
    "    [22379,24469,26559,28649,30739,32829,34919,37009,39099,42055,np.NaN],   #B+30\n",
    "    [22939,25029,27119,29209,31299,33389,35479,37569,39659,42615,np.NaN],   #M\n",
    "    [23304,25394,27484,29574,31664,33754,35844,37934,40024,42980,np.NaN],   #M+30\n",
    "    [23529,25619,27709,29799,31889,33979,36069,38159,40249,43205,np.NaN],   #CAGS/2M\n",
    "    [23699,25789,27879,29969,32059,34149,36239,38329,40419,43375,np.NaN]    #D\n",
    "    ],dtype=float)"
   ]
  },
  {
   "cell_type": "code",
   "execution_count": null,
   "metadata": {},
   "outputs": [],
   "source": [
    "print(steps_1992_1993[0:5,1]- steps_1992_1993[0:5,0])\n",
    "print(steps_1992_1993[0:5,8]- steps_1992_1993[0:5,7])\n",
    "print(steps_1992_1993[0:5,9]- steps_1992_1993[0:5,8]) # $866"
   ]
  },
  {
   "cell_type": "markdown",
   "metadata": {},
   "source": [
    "### 1991-1992   Step increments are 2090 for steps 2-9, 2956 for step 10\n",
    "\n",
    "Increments:  B to:  B+30 (930)  M (1490)  M+30 (1855)  CAGS/2M (2080)  D (2250)"
   ]
  },
  {
   "cell_type": "code",
   "execution_count": null,
   "metadata": {},
   "outputs": [],
   "source": [
    "steps_1991_1992      = np.array([\n",
    "    [21449,23539,25629,27719,29809,31899,33989,36079,38169,41125,np.NaN],   #B\n",
    "    [22379,24469,26559,28649,30739,32829,34919,37009,39099,42055,np.NaN],   #B+30\n",
    "    [22939,25029,27119,29209,31299,33389,35479,37569,39659,42615,np.NaN],   #M\n",
    "    [23304,25394,27484,29574,31664,33754,35844,37934,40024,42980,np.NaN],   #M+30\n",
    "    [23529,25619,27709,29799,31889,33979,36069,38159,40249,43205,np.NaN],   #CAGS/2M\n",
    "    [23699,25789,27879,29969,32059,34149,36239,38329,40419,43375,np.NaN]    #D\n",
    "    ],dtype=float)"
   ]
  },
  {
   "cell_type": "code",
   "execution_count": null,
   "metadata": {},
   "outputs": [],
   "source": [
    "print(steps_1991_1992[0:5,1]- steps_1991_1992[0:5,0])\n",
    "print(steps_1991_1992[0:5,8]- steps_1991_1992[0:5,7])\n",
    "print(steps_1991_1992[0:5,9]- steps_1991_1992[0:5,8]) # $866"
   ]
  },
  {
   "cell_type": "markdown",
   "metadata": {},
   "source": [
    "### 1990-1991   Step increments are 1970 for steps 2-9, 2788 for step 10\n",
    "\n",
    "Increments:  B to:   B+30 (895)  M (1435) M+30 (1785)  CAGS/2M (2000)  D (2175)"
   ]
  },
  {
   "cell_type": "code",
   "execution_count": null,
   "metadata": {},
   "outputs": [],
   "source": [
    "steps_1990_1991      = np.array([\n",
    "    [21008,22978,24948,26918,28888,30858,32828,34798,36768,39556,np.NaN],   #B\n",
    "    [21903,23873,25843,27813,29783,31753,33723,35693,37663,40451,np.NaN],   #B+30\n",
    "    [22443,24413,26383,28353,30323,32293,34263,36233,38203,40991,np.NaN],   #M\n",
    "    [22793,24763,26733,28703,30673,32643,34613,36583,38553,41341,np.NaN],   #M+30\n",
    "    [23008,24978,26948,28918,30888,32858,34828,36798,38768,41556,np.NaN],   #CAGS/2M\n",
    "    [23173,25143,27113,29083,31063,33023,34993,36963,38933,41721,np.NaN]    #D\n",
    "    ],dtype=float)"
   ]
  },
  {
   "cell_type": "code",
   "execution_count": null,
   "metadata": {},
   "outputs": [],
   "source": [
    "print(steps_1990_1991[0:5,1]- steps_1990_1991[0:5,0])\n",
    "print(steps_1990_1991[0:5,8]- steps_1990_1991[0:5,7])\n",
    "print(steps_1990_1991[0:5,9]- steps_1990_1991[0:5,8]) # $818"
   ]
  },
  {
   "cell_type": "code",
   "execution_count": null,
   "metadata": {},
   "outputs": [],
   "source": [
    "steps_1990_1991_preliminary      = np.array([                               #as of 8/31/90\n",
    "    [20912,22872,24832,26792,28752,30712,32672,34632,36592,39347,np.NaN],   #B\n",
    "    [21807,23767,25727,27687,29647,31607,33567,35527,37487,40242,np.NaN],   #B+30\n",
    "    [22347,24307,26267,28227,30187,32147,34107,36067,38027,40782,np.NaN],   #M\n",
    "    [22697,24657,26617,28577,30537,32497,34457,36417,38377,41132,np.NaN],   #M+30\n",
    "    [22912,24872,26832,28792,30752,32712,34672,36632,38592,41347,np.NaN],   #CAGS/2M\n",
    "    [23077,25037,26997,28957,30917,32877,34837,36797,38757,41512,np.NaN]    #D\n",
    "    ],dtype=float)"
   ]
  },
  {
   "cell_type": "code",
   "execution_count": null,
   "metadata": {},
   "outputs": [],
   "source": [
    "steps_1990_1991[0,1:11]-steps_1990_1991[0,0:10]"
   ]
  },
  {
   "cell_type": "markdown",
   "metadata": {},
   "source": [
    "### 1989-1990   Computed using partial list obtained from document labeled:\n",
    "\n",
    "East Greenwich Public Schools Teacher Salaries 1990-1991 Revised 8/31/90\n"
   ]
  },
  {
   "cell_type": "code",
   "execution_count": null,
   "metadata": {},
   "outputs": [],
   "source": [
    "steps_1989_1990      = np.array([\n",
    "    [20912,22872,24832,26792,28752,30712,32672,34632,36592,39347,np.NaN],   #B\n",
    "    [21807,23767,25727,27687,29647,31607,33567,35527,37487,40242,np.NaN],   #B+30\n",
    "    [22347,24307,26267,28227,30187,32147,34107,36067,38027,40782,np.NaN],   #M\n",
    "    [22697,24657,26617,28577,30537,32497,34457,36417,38377,41132,np.NaN],   #M+30\n",
    "    [22912,24872,26832,28792,30752,32712,34672,36632,38592,41347,np.NaN],   #CAGS/2M\n",
    "    [23077,25037,26997,28957,30917,32877,34837,36797,38757,41512,np.NaN]    #D\n",
    "    ],dtype=float)"
   ]
  },
  {
   "cell_type": "code",
   "execution_count": null,
   "metadata": {},
   "outputs": [],
   "source": [
    "print(steps_1989_1990[0:5,1]- steps_1989_1990[0:5,0])\n",
    "print(steps_1989_1990[0:5,8]- steps_1989_1990[0:5,7])\n",
    "print(steps_1989_1990[0:5,9]- steps_1989_1990[0:5,8])  #difference in delta is $795"
   ]
  },
  {
   "cell_type": "markdown",
   "metadata": {},
   "source": [
    "### 1988-1989   Step increments are 1756 for steps 2-9, 2460 for step 10\n",
    "\n",
    "B to:  B+30 (825) M (1325)  M+30 (1650)  CAGS/2M (1850)  D  (2000)"
   ]
  },
  {
   "cell_type": "code",
   "execution_count": null,
   "metadata": {},
   "outputs": [],
   "source": [
    "steps_1988_1989      = np.array([\n",
    "    [18653,20409,22165,23921,25677,27433,29189,30945,32701,35161,np.NaN],   #B\n",
    "    [19478,21234,22990,24746,26502,28258,30014,31770,33526,35986,np.NaN],   #B+30\n",
    "    [19978,21734,23490,25246,27002,28758,30514,32270,34026,36486,np.NaN],   #M\n",
    "    [20303,22059,23815,25571,27237,29083,30839,32595,34351,36811,np.NaN],   #M+30\n",
    "    [20503,22259,24015,25771,27527,29283,31039,32795,34551,37011,np.NaN],   #CAGS/2M\n",
    "    [20653,22409,24165,25921,27677,29433,31189,32945,34701,37161,np.NaN]    #D\n",
    "    ],dtype=float)"
   ]
  },
  {
   "cell_type": "code",
   "execution_count": null,
   "metadata": {},
   "outputs": [],
   "source": [
    "print(steps_1990_1991 - steps_1988_1989)"
   ]
  },
  {
   "cell_type": "code",
   "execution_count": null,
   "metadata": {},
   "outputs": [],
   "source": [
    "print(steps_1988_1989[0:5,1]- steps_1988_1989[0:5,0])\n",
    "print(steps_1988_1989[0:5,8]- steps_1988_1989[0:5,7])\n",
    "print(steps_1988_1989[0:5,9]- steps_1988_1989[0:5,8])\n",
    "print((steps_1990_1991/steps_1988_1989)/1.055)"
   ]
  },
  {
   "cell_type": "code",
   "execution_count": null,
   "metadata": {},
   "outputs": [],
   "source": [
    "sum(sum(steps_1988_1989[0:5,0:10]))/60"
   ]
  },
  {
   "cell_type": "markdown",
   "metadata": {},
   "source": [
    "### 1987-1988   Step increments are 1690 for steps 2-9,  2300 for step 10.\n",
    "\n",
    "B to:  B+30 (775) M (1275)  M+30 (1575)  CAGS/2M (1775)  D  (1925)"
   ]
  },
  {
   "cell_type": "code",
   "execution_count": null,
   "metadata": {},
   "outputs": [],
   "source": [
    "steps_1987_1988      = np.array([\n",
    "    [17620,19310,21000,22690,24380,26070,27760,29450,31140,33441,np.NaN],   #B\n",
    "    [18395,20085,21775,23465,25155,26845,28535,30225,31915,34216,np.NaN],   #B+30\n",
    "    [18895,20585,22275,23965,25655,27345,29035,30725,32415,34716,np.NaN],   #M\n",
    "    [19195,20885,22575,24265,25955,27645,29335,31025,32715,35016,np.NaN],   #M+30\n",
    "    [19395,21085,22775,24465,26155,27845,29535,31225,32915,35216,np.NaN],   #CAGS/2M\n",
    "    [19545,21235,22925,24615,26305,27995,29685,31375,33065,35366,np.NaN]    #D\n",
    "    ],dtype=float)"
   ]
  },
  {
   "cell_type": "markdown",
   "metadata": {},
   "source": [
    "### 1986-1987"
   ]
  },
  {
   "cell_type": "markdown",
   "metadata": {},
   "source": [
    "### 1985-1986"
   ]
  },
  {
   "cell_type": "markdown",
   "metadata": {},
   "source": [
    "### 1984-1985     only base salaries for these years?"
   ]
  },
  {
   "cell_type": "code",
   "execution_count": null,
   "metadata": {},
   "outputs": [],
   "source": [
    "steps_1984_1985      = np.array([\n",
    "    [14487,15917,17347,18777,20207,21637,23067,24497,25927,27912,np.NaN],   #B\n",
    "    [0,0,0,0,0,0,0,0,0,0,np.NaN],   #B+30\n",
    "    [0,0,0,0,0,0,0,0,0,0,np.NaN],   #M\n",
    "    [0,0,0,0,0,0,0,0,0,0,np.NaN],   #M+30\n",
    "    [0,0,0,0,0,0,0,0,0,0,np.NaN],   #CAGS/2M\n",
    "    [0,0,0,0,0,0,0,0,0,0,np.NaN]    #D\n",
    "    ],dtype=float)"
   ]
  },
  {
   "cell_type": "markdown",
   "metadata": {},
   "source": [
    "### 1983-1984   Check step 4\n",
    "\n",
    "### step increments might be 1340 steps 2-9 step 10 1896\n",
    "\n",
    "Step increments: 840, 960, 1080, 1320, 1440, 1560, 1680, 1800, 1885\n",
    "\n",
    "B to:  B+30 (575) M (1075)  M+30 (1325)  CAGS/2M (1525)  D  (1675)"
   ]
  },
  {
   "cell_type": "code",
   "execution_count": null,
   "metadata": {},
   "outputs": [],
   "source": [
    "steps_1983_1984      = np.array([\n",
    "    [13439,14779,16119,17549,18799,20139,21479,22819,24159,26055,np.NaN],   #B\n",
    "    [14014,15354,16694,18034,19374,20714,22054,23394,24734,26630,np.NaN],   #B+30\n",
    "    [14514,15854,17194,18534,19874,21214,22554,23894,25234,27130,np.NaN],   #M\n",
    "    [14764,16104,17444,18784,20124,21464,22804,24144,25484,27380,np.NaN],   #M+30\n",
    "    [14964,16304,17644,18984,20324,21664,23004,24344,25684,27580,np.NaN],   #CAGS/2M\n",
    "    [15114,16454,17794,19134,20474,21814,23154,24494,25834,27730,np.NaN]    #D\n",
    "    ],dtype=float)"
   ]
  },
  {
   "cell_type": "code",
   "execution_count": null,
   "metadata": {},
   "outputs": [],
   "source": [
    "steps_1983_1984[0,1:11]-steps_1983_1984[0,0:10]"
   ]
  },
  {
   "cell_type": "code",
   "execution_count": null,
   "metadata": {},
   "outputs": [],
   "source": [
    "print(steps_1983_1984[0:6,1]- steps_1983_1984[0:6,0])  #step 2 minus step 1\n",
    "print(steps_1983_1984[0:6,8]- steps_1983_1984[0:6,7])  #step 7 minus step 8\n",
    "print(steps_1983_1984[0:6,9]- steps_1983_1984[0:6,8])  #step 10 minus step 9"
   ]
  },
  {
   "cell_type": "code",
   "execution_count": null,
   "metadata": {},
   "outputs": [],
   "source": [
    "print(steps_1983_1984[1,0:10] - steps_1983_1984[0,0:10])    #B30 increment\n",
    "print(steps_1983_1984[2,0:10] - steps_1983_1984[0,0:10])    #M increment\n",
    "print(steps_1983_1984[3,0:10] - steps_1983_1984[0,0:10])    #M30 increment\n",
    "print(steps_1983_1984[4,0:10] - steps_1983_1984[0,0:10])    #CAGS/2M increment\n",
    "print(steps_1983_1984[5,0:10] - steps_1983_1984[0,0:10])    #D increment"
   ]
  },
  {
   "cell_type": "markdown",
   "metadata": {},
   "source": [
    "### 1982-1983   Step increments are 1220 for steps 2-9, 1810 for step 10.\n",
    "\n",
    "B to:  B+30 (575) M (1075)  M+30 (1325)  CAGS/2M (1525)  D  (1675)"
   ]
  },
  {
   "cell_type": "code",
   "execution_count": null,
   "metadata": {},
   "outputs": [],
   "source": [
    "steps_1982_1983      = np.array([\n",
    "    [12600,13820,15040,16260,17480,18700,19920,21140,22360,24170,np.NaN],   #B\n",
    "    [13175,14395,15615,16835,18055,19275,20495,21715,22935,24745,np.NaN],   #B+30\n",
    "    [13675,14895,16115,17335,18555,19775,20995,22215,23435,25245,np.NaN],   #M\n",
    "    [13925,15145,16365,17585,18805,20025,21245,22465,23685,25495,np.NaN],   #M+30\n",
    "    [14125,15345,16565,17785,19005,20225,21445,22665,23885,25695,np.NaN],   #CAGS/2M\n",
    "    [14275,15495,16715,17935,19155,20375,21595,22815,24035,25845,np.NaN]    #D\n",
    "    ],dtype=float)"
   ]
  },
  {
   "cell_type": "code",
   "execution_count": null,
   "metadata": {},
   "outputs": [],
   "source": [
    "steps_1982_1983[0,1:10]-steps_1982_1983[0,0:9]   #step increments\n"
   ]
  },
  {
   "cell_type": "code",
   "execution_count": null,
   "metadata": {},
   "outputs": [],
   "source": [
    "print(steps_1982_1983[0:6,1]- steps_1982_1983[0:6,0])\n",
    "print(steps_1982_1983[0:6,8]- steps_1982_1983[0:6,7])\n",
    "print(steps_1982_1983[0:6,9]- steps_1982_1983[0:6,8])"
   ]
  },
  {
   "cell_type": "code",
   "execution_count": null,
   "metadata": {},
   "outputs": [],
   "source": [
    "print(steps_1982_1983[1,0:10] - steps_1982_1983[0,0:10])    #B30 increment\n",
    "print(steps_1982_1983[2,0:10] - steps_1982_1983[0,0:10])    #M increment\n",
    "print(steps_1982_1983[3,0:10] - steps_1982_1983[0,0:10])    #M30 increment\n",
    "print(steps_1982_1983[4,0:10] - steps_1982_1983[0,0:10])    #CAGS/2M increment\n",
    "print(steps_1982_1983[5,0:10] - steps_1982_1983[0,0:10])    #D increment"
   ]
  },
  {
   "cell_type": "markdown",
   "metadata": {},
   "source": [
    "### Create three dimensional array containing all step history"
   ]
  },
  {
   "cell_type": "code",
   "execution_count": null,
   "metadata": {
    "scrolled": true
   },
   "outputs": [],
   "source": [
    "steps = np.array([steps_2015_2016,steps_2014_2015,steps_2013_2014,steps_2012_2013,\n",
    "                  steps_2011_2012,steps_2010_2011,steps_2009_2010,steps_2008_2009,\n",
    "                  steps_2007_2008,steps_2006_2007,steps_2005_2006,steps_2004_2005,\n",
    "                  steps_2003_2004,steps_2002_2003,steps_2001_2002,steps_2000_2001,\n",
    "                  steps_1999_2000,steps_1998_1999,steps_1997_1998,steps_1996_1997,\n",
    "                  steps_1995_1996,steps_1994_1995,steps_1993_1994,steps_1992_1993,\n",
    "                  steps_1991_1992,steps_1990_1991\n",
    "                 ])\n",
    "steps"
   ]
  },
  {
   "cell_type": "code",
   "execution_count": null,
   "metadata": {},
   "outputs": [],
   "source": [
    "det_1990_1991  = pd.read_csv(\"../../names_1990_1991.csv\")\n",
    "det_1990_1991['Step'] = np.nan_to_num(det_1990_1991['Step']).astype(int)\n",
    "det_1990_1991['Name'].fillna('', inplace=True) \n",
    "dd_1990_1991 = det_1990_1991.to_dict()\n",
    "det_1990_1991.head()"
   ]
  },
  {
   "cell_type": "code",
   "execution_count": null,
   "metadata": {},
   "outputs": [],
   "source": [
    "det_1996_1997  = pd.read_csv(\"../../names_1996_1997.csv\")\n",
    "det_1996_1997['Step'] = np.nan_to_num(det_1996_1997['Step']).astype(int)\n",
    "det_1996_1997['Name'].fillna('', inplace=True) \n",
    "dd_1996_1997 = det_1996_1997.to_dict()\n",
    "det_1996_1997.head()"
   ]
  },
  {
   "cell_type": "code",
   "execution_count": null,
   "metadata": {},
   "outputs": [],
   "source": [
    "names_dd = {}\n",
    "\n",
    "for key in dd_1990_1991['Name'].keys():\n",
    "    name = dd_1990_1991['Name'][key]\n",
    "    if (name not in names_dd.keys()):\n",
    "        names_dd[name] = {}\n",
    "        names_dd[name]['1990_1991'] = []\n",
    "    tempdd = {}\n",
    "    tempdd['Scale'] = dd_1990_1991['Scale'][key]\n",
    "    tempdd['Step']  = dd_1990_1991['Step'][key]\n",
    "    tempdd['FTE']   = dd_1990_1991['FTE'][key]\n",
    "    tempdd['School']= dd_1990_1991['School'][key]\n",
    "    tempdd['Dept']  = dd_1990_1991['Dept'][key]\n",
    "    names_dd[name]['1990_1991'].append(tempdd)\n",
    "    \n",
    "for key in dd_1996_1997['Name'].keys():\n",
    "    name = dd_1996_1997['Name'][key]\n",
    "    if (name not in names_dd.keys()):\n",
    "        names_dd[name] = {}\n",
    "    if ('1996_1997' not in names_dd[name].keys()):\n",
    "        names_dd[name]['1996_1997'] = []\n",
    "    tempdd = {}\n",
    "    tempdd['Scale'] = dd_1996_1997['Scale'][key]\n",
    "    tempdd['Step']  = dd_1996_1997['Step'][key]\n",
    "    tempdd['FTE']   = dd_1996_1997['FTE'][key]\n",
    "    tempdd['School']= dd_1996_1997['School'][key]\n",
    "    tempdd['Dept']  = dd_1996_1997['Dept'][key]\n",
    "    names_dd[name]['1996_1997'].append(tempdd)"
   ]
  },
  {
   "cell_type": "code",
   "execution_count": null,
   "metadata": {},
   "outputs": [],
   "source": [
    "names_dd"
   ]
  },
  {
   "cell_type": "code",
   "execution_count": null,
   "metadata": {
    "scrolled": true
   },
   "outputs": [],
   "source": [
    "step_counts_dd = {}\n",
    "\n",
    "for key in names_dd.keys():\n",
    "    for year in names_dd[key].keys():\n",
    "        for vt in names_dd[key][year]:\n",
    "            if (vt['Scale'] not in step_counts_dd.keys()):\n",
    "                step_counts_dd[vt['Scale']] = {}\n",
    "            if (vt['Step'] not in step_counts_dd[vt['Scale']].keys()):\n",
    "                step_counts_dd[vt['Scale']][vt['Step']] = {}\n",
    "            if (year not in step_counts_dd[vt['Scale']][vt['Step']].keys()):\n",
    "                step_counts_dd[vt['Scale']][vt['Step']][year] = 0.0\n",
    "            step_counts_dd[vt['Scale']][vt['Step']][year] += vt['FTE']\n",
    "                \n",
    "                \n",
    "step_counts_dd"
   ]
  },
  {
   "cell_type": "code",
   "execution_count": null,
   "metadata": {},
   "outputs": [],
   "source": []
  }
 ],
 "metadata": {
  "kernelspec": {
   "display_name": "Python 3",
   "language": "python",
   "name": "python3"
  },
  "language_info": {
   "codemirror_mode": {
    "name": "ipython",
    "version": 3
   },
   "file_extension": ".py",
   "mimetype": "text/x-python",
   "name": "python",
   "nbconvert_exporter": "python",
   "pygments_lexer": "ipython3",
   "version": "3.7.3"
  }
 },
 "nbformat": 4,
 "nbformat_minor": 2
}
