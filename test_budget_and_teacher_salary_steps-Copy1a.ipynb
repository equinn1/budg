{
 "cells": [
  {
   "cell_type": "markdown",
   "metadata": {},
   "source": [
    "#  Test budget and teacher salary steps\n",
    "\n",
    "1/5/2019 epq"
   ]
  },
  {
   "cell_type": "markdown",
   "metadata": {},
   "source": [
    "### Import packages"
   ]
  },
  {
   "cell_type": "code",
   "execution_count": null,
   "metadata": {},
   "outputs": [],
   "source": [
    "import re\n",
    "import numpy as np\n",
    "import scipy as sc\n",
    "import pandas as pd\n",
    "import matplotlib.pyplot as plt\n",
    "import seaborn as sns\n",
    "%matplotlib inline"
   ]
  },
  {
   "cell_type": "markdown",
   "metadata": {},
   "source": [
    "### Import budget code"
   ]
  },
  {
   "cell_type": "code",
   "execution_count": null,
   "metadata": {},
   "outputs": [],
   "source": [
    "from budget import *     #not the best way but OK for now"
   ]
  },
  {
   "cell_type": "markdown",
   "metadata": {},
   "source": [
    "### Set options for display"
   ]
  },
  {
   "cell_type": "code",
   "execution_count": null,
   "metadata": {},
   "outputs": [],
   "source": [
    "pd.set_option(\"display.max_rows\",1000)\n",
    "pd.set_option(\"display.max_columns\",100)"
   ]
  },
  {
   "cell_type": "code",
   "execution_count": null,
   "metadata": {},
   "outputs": [],
   "source": [
    "ld = labels.get_labels_dict()\n",
    "ld.keys()"
   ]
  },
  {
   "cell_type": "code",
   "execution_count": null,
   "metadata": {},
   "outputs": [],
   "source": [
    "def write_labels(lname): \n",
    "    locdf = pd.DataFrame.from_dict(ld[lname],orient='index')\n",
    "    locdf.head()\n",
    "    locdf.to_csv('../labels_' + lname + '.csv')\n",
    "    return\n",
    "\n",
    "write_labels('Loc')\n",
    "write_labels('Func')\n",
    "write_labels('Prog')\n",
    "write_labels('Sub')\n",
    "write_labels('Obj')\n",
    "write_labels('JC')\n",
    "write_labels('Fund')"
   ]
  },
  {
   "cell_type": "code",
   "execution_count": null,
   "metadata": {},
   "outputs": [],
   "source": [
    "df2017 = RIDE_ucoa['2017'].get_dataframe()\n",
    "print(df2017.columns)\n",
    "#df2017.loc[df2017['Obj']==53207]\n",
    "dd17 = df2017.to_dict()"
   ]
  },
  {
   "cell_type": "code",
   "execution_count": null,
   "metadata": {},
   "outputs": [],
   "source": [
    "alleg = pd.concat([RIDE_ucoa['2017'].get_dataframe(),RIDE_ucoa['2016'].get_dataframe(),\n",
    "        RIDE_ucoa['2015'].get_dataframe(),RIDE_ucoa['2014'].get_dataframe(),\n",
    "        RIDE_ucoa['2013'].get_dataframe(),RIDE_ucoa['2012'].get_dataframe(),\n",
    "        RIDE_ucoa['2011'].get_dataframe(),RIDE_ucoa['2010'].get_dataframe()],sort=False)\n",
    "alleg.loc[(alleg['Obj']==51110)]"
   ]
  },
  {
   "cell_type": "code",
   "execution_count": null,
   "metadata": {},
   "outputs": [],
   "source": [
    "#alleg.to_csv(\"alleg.csv\")"
   ]
  },
  {
   "cell_type": "code",
   "execution_count": null,
   "metadata": {},
   "outputs": [],
   "source": [
    "alleg.loc[(alleg['Obj']==51110) & (alleg['Sub']==2600) & (alleg['JC']==1600)]   #librarians"
   ]
  },
  {
   "cell_type": "code",
   "execution_count": null,
   "metadata": {},
   "outputs": [],
   "source": [
    "lib = alleg.loc[(alleg['Obj']==51110) & (alleg['Sub']==2600) & (alleg['JC']==1600)]   #librarians\n",
    "lib.to_csv('../../librarians.csv')"
   ]
  },
  {
   "cell_type": "code",
   "execution_count": null,
   "metadata": {},
   "outputs": [],
   "source": [
    "dd17.keys()"
   ]
  },
  {
   "cell_type": "code",
   "execution_count": null,
   "metadata": {},
   "outputs": [],
   "source": [
    "RIDE_ucoa"
   ]
  },
  {
   "cell_type": "code",
   "execution_count": null,
   "metadata": {},
   "outputs": [],
   "source": [
    "ld = labels.get_labels_dict()\n",
    "ld"
   ]
  },
  {
   "cell_type": "code",
   "execution_count": null,
   "metadata": {},
   "outputs": [],
   "source": [
    "print(df2017.columns)\n",
    "dd2017 = RIDE_ucoa['2017'].get_datadict()\n",
    "tloc={}\n",
    "total_actual=0.0\n",
    "\n",
    "for row in dd2017['ID'].keys():\n",
    "    loc = dd2017['Loc'][row]\n",
    "    if loc not in tloc.keys():  \n",
    "        tloc[loc]={}\n",
    "        tloc[loc]['Actual'] = 0.0\n",
    "    tloc[loc]['Actual']+=dd2017['Actual'][row]\n",
    "    total_actual+=dd2017['Actual'][row]\n",
    "    \n",
    "print(total_actual)\n",
    "\n",
    "rev = {}\n",
    "for key in tloc.keys():\n",
    "    rkey = tloc[key]['Actual']\n",
    "    rev[rkey] = key\n",
    "    \n",
    "for rk in sorted(rev.keys()):\n",
    "    print(str(rev[rk]) + ' ' + str(rk))\n",
    "\n",
    "for key in tloc.keys():\n",
    "    tloc[key]['Percent']=100.0*tloc[key]['Actual']/total_actual\n",
    "\n",
    "tloc\n"
   ]
  },
  {
   "cell_type": "code",
   "execution_count": null,
   "metadata": {},
   "outputs": [],
   "source": [
    "print(df2017.columns)\n",
    "dd2017 = RIDE_ucoa['2017'].get_datadict()\n",
    "tloc={}\n",
    "total_actual=0.0\n",
    "\n",
    "for row in dd2017['ID'].keys():\n",
    "    loc = dd2017['Prog'][row]\n",
    "    if loc not in tloc.keys():  \n",
    "        tloc[loc]={}\n",
    "        tloc[loc]['Actual'] = 0.0\n",
    "    tloc[loc]['Actual']+=dd2017['Actual'][row]\n",
    "    total_actual+=dd2017['Actual'][row]\n",
    "    \n",
    "print(total_actual)\n",
    "for key in tloc.keys():\n",
    "    tloc[key]['Percent']=100.0*tloc[key]['Actual']/total_actual\n",
    "\n",
    "tloc\n"
   ]
  },
  {
   "cell_type": "code",
   "execution_count": null,
   "metadata": {},
   "outputs": [],
   "source": [
    "print(df2017.columns)\n",
    "dd2017 = RIDE_ucoa['2017'].get_datadict()\n",
    "tloc={}\n",
    "total_actual=0.0\n",
    "\n",
    "for row in dd2017['ID'].keys():\n",
    "    loc = dd2017['Sub'][row]\n",
    "    if loc not in tloc.keys():  \n",
    "        tloc[loc]={}\n",
    "        tloc[loc]['Actual'] = 0.0\n",
    "    tloc[loc]['Actual']+=dd2017['Actual'][row]\n",
    "    total_actual+=dd2017['Actual'][row]\n",
    "    \n",
    "print(total_actual)\n",
    "for key in tloc.keys():\n",
    "    tloc[key]['Percent']=100.0*tloc[key]['Actual']/total_actual\n",
    "\n",
    "tloc\n"
   ]
  },
  {
   "cell_type": "code",
   "execution_count": null,
   "metadata": {},
   "outputs": [],
   "source": [
    "print(df2017.columns)\n",
    "dd2017 = RIDE_ucoa['2017'].get_datadict()\n",
    "tloc={}\n",
    "total_actual=0.0\n",
    "\n",
    "for row in dd2017['ID'].keys():\n",
    "    loc = dd2017['JC'][row]\n",
    "    if loc not in tloc.keys():  \n",
    "        tloc[loc]={}\n",
    "        tloc[loc]['Actual'] = 0.0\n",
    "    tloc[loc]['Actual']+=dd2017['Actual'][row]\n",
    "    total_actual+=dd2017['Actual'][row]\n",
    "    \n",
    "print(total_actual)\n",
    "for key in tloc.keys():\n",
    "    tloc[key]['Percent']=100.0*tloc[key]['Actual']/total_actual\n",
    "\n",
    "tloc\n"
   ]
  },
  {
   "cell_type": "code",
   "execution_count": null,
   "metadata": {},
   "outputs": [],
   "source": [
    "print(df2017.columns)\n",
    "dd2017 = RIDE_ucoa['2017'].get_datadict()\n",
    "tloc={}\n",
    "total_actual=0.0\n",
    "\n",
    "for row in dd2017['ID'].keys():\n",
    "    loc = dd2017['Obj'][row]\n",
    "    if loc not in tloc.keys():  \n",
    "        tloc[loc]={}\n",
    "        tloc[loc]['Actual'] = 0.0\n",
    "    tloc[loc]['Actual']+=dd2017['Actual'][row]\n",
    "    total_actual+=dd2017['Actual'][row]\n",
    "    \n",
    "print(total_actual)\n",
    "for key in tloc.keys():\n",
    "    tloc[key]['Percent']=100.0*tloc[key]['Actual']/total_actual\n",
    "\n",
    "tloc\n"
   ]
  },
  {
   "cell_type": "markdown",
   "metadata": {},
   "source": [
    "### Read the latest FY2018 Budget-to-Actual report\n",
    "\n",
    "Data from MUNIS"
   ]
  },
  {
   "cell_type": "code",
   "execution_count": null,
   "metadata": {
    "scrolled": true
   },
   "outputs": [],
   "source": [
    "munis_fy2018 = MUNIS_data(\"../../FY18.csv\",2018)\n",
    "munis_fy2018.get_df().head()"
   ]
  },
  {
   "cell_type": "code",
   "execution_count": null,
   "metadata": {
    "scrolled": true
   },
   "outputs": [],
   "source": [
    "munis_fy2019ytd = MUNIS_data(\"../../FY19_YTD.csv\",2019)\n",
    "munis_fy2019ytd.get_df().head()"
   ]
  },
  {
   "cell_type": "markdown",
   "metadata": {},
   "source": [
    "### Initialize budgets dictionary"
   ]
  },
  {
   "cell_type": "code",
   "execution_count": null,
   "metadata": {},
   "outputs": [],
   "source": [
    "budgets={}"
   ]
  },
  {
   "cell_type": "markdown",
   "metadata": {},
   "source": [
    "### Build FY2018 budget from MUNIS data"
   ]
  },
  {
   "cell_type": "code",
   "execution_count": null,
   "metadata": {},
   "outputs": [],
   "source": [
    "budgets[2018] = budget(2018,'FY2018','FY2018 Budget built from MUNIS data')\n",
    "budgets[2018].build_budget(ucoa,munis_fy2018)\n",
    "budgets[2019] = budget(2019,'FY2019','FY2019 YTD Budget built from MUNIS data')\n",
    "budgets[2019].build_budget(ucoa,munis_fy2019ytd)"
   ]
  },
  {
   "cell_type": "markdown",
   "metadata": {},
   "source": [
    "### Build budgets for 2010-2017 from the RIDE data"
   ]
  },
  {
   "cell_type": "code",
   "execution_count": null,
   "metadata": {},
   "outputs": [],
   "source": [
    "budgets[2017] = budget(2017,'FY2017','FY2017 Budget built from RIDE data')\n",
    "budgets[2017].build_budget(ucoa,RIDE_ucoa['2017'])\n",
    "budgets[2017].build_budget(ucoa,RIDE_ucoa['2017D'])\n",
    "budgets[2017].build_budget(ucoa,RIDE_ucoa['2017R'])\n",
    "budgets[2016] = budget(2016,'FY2016','FY2016 Budget built from RIDE data')\n",
    "budgets[2016].build_budget(ucoa,RIDE_ucoa['2016'])\n",
    "budgets[2016].build_budget(ucoa,RIDE_ucoa['2016D'])\n",
    "budgets[2016].build_budget(ucoa,RIDE_ucoa['2016R'])\n",
    "budgets[2015] = budget(2015,'FY2015','FY2015 Budget built from RIDE data')\n",
    "budgets[2015].build_budget(ucoa,RIDE_ucoa['2015'])\n",
    "budgets[2015].build_budget(ucoa,RIDE_ucoa['2015D'])\n",
    "budgets[2015].build_budget(ucoa,RIDE_ucoa['2015R'])\n",
    "budgets[2014] = budget(2014,'FY2014','FY2014 Budget built from RIDE data')\n",
    "budgets[2014].build_budget(ucoa,RIDE_ucoa['2014'])\n",
    "budgets[2014].build_budget(ucoa,RIDE_ucoa['2014D'])\n",
    "budgets[2014].build_budget(ucoa,RIDE_ucoa['2014R'])\n",
    "budgets[2013] = budget(2013,'FY2013','FY2013 Budget built from RIDE data')\n",
    "budgets[2013].build_budget(ucoa,RIDE_ucoa['2013'])\n",
    "budgets[2013].build_budget(ucoa,RIDE_ucoa['2013D'])\n",
    "budgets[2013].build_budget(ucoa,RIDE_ucoa['2013R'])\n",
    "budgets[2012] = budget(2012,'FY2012','FY2012 Budget built from RIDE data')\n",
    "budgets[2012].build_budget(ucoa,RIDE_ucoa['2012'])\n",
    "budgets[2012].build_budget(ucoa,RIDE_ucoa['2012D'])\n",
    "budgets[2012].build_budget(ucoa,RIDE_ucoa['2012R'])\n",
    "budgets[2011] = budget(2011,'FY2011','FY2011 Budget built from RIDE data')\n",
    "budgets[2011].build_budget(ucoa,RIDE_ucoa['2011'])\n",
    "budgets[2011].build_budget(ucoa,RIDE_ucoa['2011D'])\n",
    "budgets[2011].build_budget(ucoa,RIDE_ucoa['2011R'])\n",
    "budgets[2010] = budget(2010,'FY2010','FY2017 Budget built from RIDE data')\n",
    "budgets[2010].build_budget(ucoa,RIDE_ucoa['2010'])\n",
    "budgets[2010].build_budget(ucoa,RIDE_ucoa['2010D'])\n",
    "budgets[2010].build_budget(ucoa,RIDE_ucoa['2010R'])"
   ]
  },
  {
   "cell_type": "markdown",
   "metadata": {},
   "source": [
    "### Build linked list of budgets"
   ]
  },
  {
   "cell_type": "code",
   "execution_count": null,
   "metadata": {},
   "outputs": [],
   "source": [
    "for year in range(2010,2019):\n",
    "    budgets[year].set_succeeding_budget(budgets[year+1])\n",
    "for year in range(2011,2020):\n",
    "    budgets[year].set_preceding_budget(budgets[year-1])"
   ]
  },
  {
   "cell_type": "code",
   "execution_count": null,
   "metadata": {},
   "outputs": [],
   "source": [
    "budgets[2019].get_budget_dd()"
   ]
  },
  {
   "cell_type": "markdown",
   "metadata": {},
   "source": [
    "### Build combined budget item list with all years"
   ]
  },
  {
   "cell_type": "code",
   "execution_count": null,
   "metadata": {},
   "outputs": [],
   "source": [
    "budget = budgets[2018]\n",
    "\n",
    "bud_items = {}\n",
    "\n",
    "while(budget is not None):\n",
    "    \n",
    "    fyear = budget.get_fyear()\n",
    "\n",
    "    bdd = budget.get_budget_dd()\n",
    "    for uitem in bdd.keys():\n",
    "        if (uitem not in bud_items.keys()):\n",
    "            bud_items[uitem] = {}\n",
    "        bud_items[uitem][fyear] ={}\n",
    "        bud_items[uitem][fyear]['Budget'] = budget.get_budget(uitem)\n",
    "        bud_items[uitem][fyear]['Actual'] = budget.get_actual(uitem)\n",
    "        \n",
    "    budget = budget.get_preceding_budget()"
   ]
  },
  {
   "cell_type": "markdown",
   "metadata": {},
   "source": [
    "### List the results"
   ]
  },
  {
   "cell_type": "code",
   "execution_count": null,
   "metadata": {},
   "outputs": [],
   "source": [
    "bud_items"
   ]
  },
  {
   "cell_type": "code",
   "execution_count": null,
   "metadata": {},
   "outputs": [],
   "source": [
    "#\n",
    "with open('../ucoa_history.csv', 'w') as f:\n",
    "    \n",
    "    f.write('year,key,loc,func,prog,sub,jc,obj,fund,budget,actual\\n')\n",
    "\n",
    "    for item in bud_items.keys():\n",
    "        for year in bud_items[item].keys():\n",
    "            key = str(item.get_loc())+'_'+str(item.get_func())+'_'+str(item.get_prog())+'_'+ \\\n",
    "                str(item.get_sub())+'_'+str(item.get_jc())+'_'+str(item.get_obj())+'_'+ \\\n",
    "                str(item.get_fund())\n",
    "            line=str(year)+','+key.strip()+','+str(item.get_loc())+','+ \\\n",
    "                str(item.get_func())+','+str(item.get_prog())+','+str(item.get_sub())+','+ \\\n",
    "                str(item.get_jc())+','+str(item.get_obj())+','+str(item.get_fund())+','\n",
    "            if (bud_items[item][year]['Budget'] is not None):\n",
    "                line+=str(bud_items[item][year]['Budget'])\n",
    "            line+=','\n",
    "            if ('Actual' in bud_items[item][year].keys()):\n",
    "                line+=str(bud_items[item][year]['Actual'])\n",
    "            line+='\\n'\n",
    "            f.write(line)\n",
    "        \n",
    "    \n"
   ]
  },
  {
   "cell_type": "markdown",
   "metadata": {},
   "source": [
    "### CPI estimates\n",
    "\n",
    "calendar year, cpi, cpi deltas"
   ]
  },
  {
   "cell_type": "code",
   "execution_count": null,
   "metadata": {},
   "outputs": [],
   "source": [
    "cpi_2017 = budget_parameters(2017,1.02,[])      #2017  2%\n",
    "cpi_2018 = budget_parameters(2018,1.025,[])     #2018  2.5%\n",
    "cpi_2019 = budget_parameters(2018,1.03,[])      #2019  3%\n",
    "cpi_2020 = budget_parameters(2018,1.03,[])      #2019  3%"
   ]
  },
  {
   "cell_type": "markdown",
   "metadata": {},
   "source": [
    "### Project 2018 budget one year ahead"
   ]
  },
  {
   "cell_type": "code",
   "execution_count": null,
   "metadata": {},
   "outputs": [],
   "source": [
    "new_budget = budgets[2018].project(cba_dict['2018_2019'],cpi_2018)\n",
    "print(new_budget.get_budget_id())\n",
    "new_budget.get_budget_dd()"
   ]
  },
  {
   "cell_type": "markdown",
   "metadata": {},
   "source": [
    "### Project two years ahead"
   ]
  },
  {
   "cell_type": "code",
   "execution_count": null,
   "metadata": {},
   "outputs": [],
   "source": [
    "new_budget2 = new_budget.project(cba_dict['2018_2019'],cpi_2019)\n",
    "print(new_budget2.get_budget_id())\n",
    "new_budget2.get_budget_dd()"
   ]
  },
  {
   "cell_type": "markdown",
   "metadata": {},
   "source": [
    "### Project three years ahead"
   ]
  },
  {
   "cell_type": "code",
   "execution_count": null,
   "metadata": {},
   "outputs": [],
   "source": [
    "new_budget3 = new_budget2.project(cba_dict['2018_2019'],cpi_2020)\n",
    "print(new_budget3.get_budget_id())\n",
    "new_budget3.get_budget_dd()"
   ]
  },
  {
   "cell_type": "code",
   "execution_count": null,
   "metadata": {},
   "outputs": [],
   "source": [
    "ucd = RIDE_ucoa['2017'].get_ucoadict()\n",
    "\n",
    "for loc in ucd.keys():\n",
    "    print(str(loc) + ' ' + labels.get_label('Loc',loc))\n",
    "    for func in ucd[loc].keys():\n",
    "        if (func in [111,211,212]):\n",
    "            print('        ' + str(func) + ' ' + labels.get_label('Func',func))\n",
    "            for prog in ucd[loc][func].keys():\n",
    "                print('            ' + str(prog) + ' ' + labels.get_label('Prog',prog))\n",
    "                for sub in ucd[loc][func][prog].keys():\n",
    "                    print('                '+ str(sub)+' '+labels.get_label('Sub',sub))\n",
    "                    for jc in ucd[loc][func][prog][sub].keys():\n",
    "                        for obj in ucd[loc][func][prog][sub][jc].keys():\n",
    "                            if (obj==51110):\n",
    "                                for fund in ucd[loc][func][prog][sub][jc][obj].keys():\n",
    "                                    budget = ucd[loc][func][prog][sub][jc][obj][fund]['Budget']\n",
    "                                    print('                    '+str(jc)+' '+ \\\n",
    "                                    str(obj)+ ' '+labels.get_label('JC',jc) + '   '+str(budget))\n",
    "                                    if (budget < 400000.0):\n",
    "                                        rd = cba_dict['2016_2017'].get_steps(budget)\n",
    "                                        print('                         FTEs: '+str(rd['fte'])+' '+ \\\n",
    "                                            str(rd['step_codes'])+' '+str(rd['min_diff']))\n",
    "                                          \n",
    "                                "
   ]
  },
  {
   "cell_type": "markdown",
   "metadata": {},
   "source": [
    "### Experimental - determine FTEs and step levels from RIDE budget value"
   ]
  },
  {
   "cell_type": "code",
   "execution_count": null,
   "metadata": {},
   "outputs": [],
   "source": [
    "S = 62583.0 + 66616. + 66616. + 73353.   #(M+30 step 6, B step 8, B step 8, B+30 step 9)\n",
    "cba_dict['2016_2017'].get_steps(S)"
   ]
  },
  {
   "cell_type": "code",
   "execution_count": null,
   "metadata": {},
   "outputs": [],
   "source": [
    "S = 78898.0 + 80675.0 + 81743.0 + 82438.0   #(B, B+30, M, M+30 step 10)\n",
    "cba_dict['2016_2017'].get_steps(S)"
   ]
  },
  {
   "cell_type": "code",
   "execution_count": null,
   "metadata": {},
   "outputs": [],
   "source": [
    "S = 78898.0 + 80675.0 + 81743.0 + 82438.0 + 82866  #(B, B+30, M, M+30, CAGS step 10)\n",
    "cba_dict['2016_2017'].get_steps(S)"
   ]
  },
  {
   "cell_type": "code",
   "execution_count": null,
   "metadata": {},
   "outputs": [],
   "source": [
    "ucd = RIDE_ucoa['2016'].get_ucoadict()\n",
    "\n",
    "for loc in ucd.keys():\n",
    "    print(str(loc) + ' ' + labels.get_label('Loc',loc))\n",
    "    for func in ucd[loc].keys():\n",
    "        if (func in [111,211,212]):\n",
    "            print('        ' + str(func) + ' ' + labels.get_label('Func',func))\n",
    "            for prog in ucd[loc][func].keys():\n",
    "                print('            ' + str(prog) + ' ' + labels.get_label('Prog',prog))\n",
    "                for sub in ucd[loc][func][prog].keys():\n",
    "                    print('                '+ str(sub)+' '+labels.get_label('Sub',sub))\n",
    "                    for jc in ucd[loc][func][prog][sub].keys():\n",
    "                        for obj in ucd[loc][func][prog][sub][jc].keys():\n",
    "                            if (obj==51110):\n",
    "                                for fund in ucd[loc][func][prog][sub][jc][obj].keys():\n",
    "                                    budget = ucd[loc][func][prog][sub][jc][obj][fund]['Budget']\n",
    "                                    print('                    '+str(jc)+' '+ \\\n",
    "                                    str(obj)+ ' '+labels.get_label('JC',jc) + '   '+str(budget))\n",
    "                                    if (budget < 400000.0):\n",
    "                                        rd = cba_dict['2016_2017'].get_steps(budget)\n",
    "                                        print('                         FTEs: '+str(rd['fte'])+' '+ \\\n",
    "                                            str(rd['step_codes'])+' '+str(rd['min_diff']))\n",
    "                                          \n",
    "                                "
   ]
  },
  {
   "cell_type": "markdown",
   "metadata": {},
   "source": [
    "### dept chair stipend 12% of top step  obj 51401"
   ]
  },
  {
   "cell_type": "code",
   "execution_count": null,
   "metadata": {},
   "outputs": [],
   "source": [
    "S = 177431 - 0.8*82438 #78898.0 + 80675.0 + 81743.0 + 82438.0 + 82866  #(B, B+30, M, M+30, CAGS step 10)\n",
    "print(S)\n",
    "cba_dict['2016_2017'].get_steps2(S,2)"
   ]
  },
  {
   "cell_type": "code",
   "execution_count": null,
   "metadata": {},
   "outputs": [],
   "source": [
    "S = 14213.93\n",
    "cba_dict['2016_2017'].get_steps(S)"
   ]
  },
  {
   "cell_type": "code",
   "execution_count": null,
   "metadata": {},
   "outputs": [],
   "source": []
  }
 ],
 "metadata": {
  "kernelspec": {
   "display_name": "Python 3",
   "language": "python",
   "name": "python3"
  },
  "language_info": {
   "codemirror_mode": {
    "name": "ipython",
    "version": 3
   },
   "file_extension": ".py",
   "mimetype": "text/x-python",
   "name": "python",
   "nbconvert_exporter": "python",
   "pygments_lexer": "ipython3",
   "version": "3.7.3"
  }
 },
 "nbformat": 4,
 "nbformat_minor": 2
}
